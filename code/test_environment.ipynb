{
 "cells": [
  {
   "cell_type": "markdown",
   "id": "70b8d16d-951f-42ac-9ce1-da90c886952a",
   "metadata": {},
   "source": [
    "# Test Environment\n",
    "\n",
    "This notebook verifies that the required packages for MNE are installed and working correctly.\n",
    "\n",
    "Recall that commands inside of cells starting with \"!\" are run on the underlying system."
   ]
  },
  {
   "cell_type": "code",
   "execution_count": null,
   "id": "dfe194b2-aa2d-4dab-ab9f-30e7461d409e",
   "metadata": {},
   "outputs": [],
   "source": [
    "!pwd"
   ]
  },
  {
   "cell_type": "markdown",
   "id": "87ffdc05-6d50-4850-9d88-89b58820273c",
   "metadata": {},
   "source": [
    "This functionality can be used to install packages from within a notebook.\n",
    "\n",
    "**NOTE**: This requies you to restart the kernal once the installation has completed.\n",
    "\n",
    "This can be done from the top menu of Jupyter via: \"Kernel -> Restart Kernel...\""
   ]
  },
  {
   "cell_type": "code",
   "execution_count": null,
   "id": "3c35a0a2-779d-4c13-85ab-6d618b55a19c",
   "metadata": {},
   "outputs": [],
   "source": [
    "!pip install mne mne_bids pandas scikit-learn"
   ]
  },
  {
   "cell_type": "markdown",
   "id": "b16ff2d1-27db-4648-b2fc-5ccd12ea0a06",
   "metadata": {},
   "source": [
    "Assuming the package has installed correctly, the below cells are some simple tests written by the MNE developers to verify that things are working correctly."
   ]
  },
  {
   "cell_type": "code",
   "execution_count": null,
   "id": "aae444b9-a1f9-4f81-9ce1-c48782d38a19",
   "metadata": {},
   "outputs": [],
   "source": [
    "import mne"
   ]
  },
  {
   "cell_type": "code",
   "execution_count": null,
   "id": "a220d561-4afd-43c8-9efd-7bec927f60c1",
   "metadata": {},
   "outputs": [],
   "source": [
    "sample_data_folder = mne.datasets.sample.data_path()\n",
    "sample_data_raw_file = (\n",
    "    sample_data_folder / \"MEG\" / \"sample\" / \"sample_audvis_filt-0-40_raw.fif\"\n",
    ")\n",
    "raw = mne.io.read_raw_fif(sample_data_raw_file)\n",
    "raw"
   ]
  },
  {
   "cell_type": "markdown",
   "id": "7eb24c33-5746-4ed6-a963-b9fa49d59a29",
   "metadata": {},
   "source": [
    "We should have been presented with some summary information about an MEG file.\n",
    "\n",
    "Next to verify is some plotting functions."
   ]
  },
  {
   "cell_type": "code",
   "execution_count": null,
   "id": "cf9a6d7c-f26a-4e0c-8158-b0d174d271a6",
   "metadata": {},
   "outputs": [],
   "source": [
    "raw.plot_psd()"
   ]
  },
  {
   "cell_type": "markdown",
   "id": "876c50b9-4999-42d2-87bf-18ae4d8610f9",
   "metadata": {},
   "source": [
    "Let's verify that the modern scrollplot functionality is present and working by first installing the main plotting package:"
   ]
  },
  {
   "cell_type": "code",
   "execution_count": null,
   "id": "73643cc8-9949-4099-944f-9c5e45931f35",
   "metadata": {
    "scrolled": true
   },
   "outputs": [],
   "source": [
    "!pip install mne-qt-browser"
   ]
  },
  {
   "cell_type": "code",
   "execution_count": null,
   "id": "dea0bb6b-05cf-4b58-b577-baf058e0616f",
   "metadata": {
    "scrolled": true
   },
   "outputs": [],
   "source": [
    "raw.plot(picks='eeg')"
   ]
  },
  {
   "cell_type": "markdown",
   "id": "e8465c02-b226-462b-bbca-8d833b82afcf",
   "metadata": {},
   "source": [
    "This may error saying that \"No Qt binding found, please install PyQt6, PyQt5, PySide6, or PySide2\".\n",
    "\n",
    "This is because the scrollplot uses an external library and Python does not yet know how to talk to it.\n",
    "\n",
    "We can fix this by installing our Qt bindings of choice:"
   ]
  },
  {
   "cell_type": "code",
   "execution_count": null,
   "id": "68e94570-05d3-4d5a-89fe-eb671ea76454",
   "metadata": {},
   "outputs": [],
   "source": [
    "!pip install PyQt5"
   ]
  },
  {
   "cell_type": "markdown",
   "id": "0074899f-775c-44f8-8218-9dbc1f03c6b7",
   "metadata": {},
   "source": [
    "Our plotting function should now likely work"
   ]
  },
  {
   "cell_type": "code",
   "execution_count": null,
   "id": "4ef5fa38-221f-4d53-be33-959975a72a94",
   "metadata": {},
   "outputs": [],
   "source": [
    "raw.plot(picks='eeg')"
   ]
  }
 ],
 "metadata": {
  "kernelspec": {
   "display_name": "Python 3 (ipykernel)",
   "language": "python",
   "name": "python3"
  },
  "language_info": {
   "codemirror_mode": {
    "name": "ipython",
    "version": 3
   },
   "file_extension": ".py",
   "mimetype": "text/x-python",
   "name": "python",
   "nbconvert_exporter": "python",
   "pygments_lexer": "ipython3",
   "version": "3.10.12"
  }
 },
 "nbformat": 4,
 "nbformat_minor": 5
}
