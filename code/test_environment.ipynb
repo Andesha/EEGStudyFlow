{
 "cells": [
  {
   "cell_type": "markdown",
   "id": "70b8d16d-951f-42ac-9ce1-da90c886952a",
   "metadata": {},
   "source": [
    "# Test Environment\n",
    "\n",
    "This notebook verifies that the required packages for MNE are installed and working correctly.\n",
    "\n",
    "Recall that commands inside of cells starting with \"!\" are run on the underlying system."
   ]
  },
  {
   "cell_type": "code",
   "execution_count": null,
   "id": "dfe194b2-aa2d-4dab-ab9f-30e7461d409e",
   "metadata": {},
   "outputs": [],
   "source": [
    "!pwd"
   ]
  },
  {
   "cell_type": "markdown",
   "id": "87ffdc05-6d50-4850-9d88-89b58820273c",
   "metadata": {},
   "source": [
    "This functionality can be used to install packages from within a notebook.\n",
    "\n",
    "**NOTE**: This requies you to restart the kernal once the installation has completed.\n",
    "\n",
    "This can be done from the top menu of Jupyter via: \"Kernel -> Restart Kernel...\"\n",
    "\n",
    "**NOTE**: All package installs assume that you are using **Python version 3.11**. For instructions on how to check, and install other versions, please see the README at the root of the project."
   ]
  },
  {
   "cell_type": "code",
   "execution_count": null,
   "id": "3c35a0a2-779d-4c13-85ab-6d618b55a19c",
   "metadata": {},
   "outputs": [],
   "source": [
    "!pip install mne"
   ]
  },
  {
   "cell_type": "markdown",
   "id": "b16ff2d1-27db-4648-b2fc-5ccd12ea0a06",
   "metadata": {},
   "source": [
    "Assuming the package has installed correctly, the below cells are some simple tests written by the MNE developers to verify that things are working correctly."
   ]
  },
  {
   "cell_type": "code",
   "execution_count": null,
   "id": "aae444b9-a1f9-4f81-9ce1-c48782d38a19",
   "metadata": {},
   "outputs": [],
   "source": [
    "import mne"
   ]
  },
  {
   "cell_type": "code",
   "execution_count": null,
   "id": "a220d561-4afd-43c8-9efd-7bec927f60c1",
   "metadata": {},
   "outputs": [],
   "source": [
    "sample_data_folder = mne.datasets.sample.data_path()\n",
    "sample_data_raw_file = (\n",
    "    sample_data_folder / \"MEG\" / \"sample\" / \"sample_audvis_filt-0-40_raw.fif\"\n",
    ")\n",
    "raw = mne.io.read_raw_fif(sample_data_raw_file)\n",
    "raw"
   ]
  },
  {
   "cell_type": "markdown",
   "id": "7eb24c33-5746-4ed6-a963-b9fa49d59a29",
   "metadata": {},
   "source": [
    "We should have been presented with some summary information about an MEG file.\n",
    "\n",
    "Next to verify is some plotting functions."
   ]
  },
  {
   "cell_type": "code",
   "execution_count": null,
   "id": "cf9a6d7c-f26a-4e0c-8158-b0d174d271a6",
   "metadata": {},
   "outputs": [],
   "source": [
    "raw.plot_psd()"
   ]
  },
  {
   "cell_type": "markdown",
   "id": "9865d3b2-56ce-4927-8845-463b044754b2",
   "metadata": {},
   "source": [
    "## Installing Other Useful Packages"
   ]
  },
  {
   "cell_type": "markdown",
   "id": "876c50b9-4999-42d2-87bf-18ae4d8610f9",
   "metadata": {},
   "source": [
    "Let's install everything we might need based on a file called \"requirements.txt\". These files typically contain a list of packages and constraints on which versions should be considered."
   ]
  },
  {
   "cell_type": "code",
   "execution_count": null,
   "id": "8bd73274-b4be-4f97-b762-87e624a204c7",
   "metadata": {},
   "outputs": [],
   "source": [
    "!cat requirements.txt"
   ]
  },
  {
   "cell_type": "markdown",
   "id": "e562d74b-6c58-43b1-85b5-77ca147c8534",
   "metadata": {},
   "source": [
    "The extra index url at the top just tells pip to download only the basic version of torch. Otherwise it download 5 gigs of packages...\n",
    "\n",
    "Install all of these now:"
   ]
  },
  {
   "cell_type": "code",
   "execution_count": null,
   "id": "1ff96881-4b06-48e3-b718-83ade1391b59",
   "metadata": {},
   "outputs": [],
   "source": [
    "!pip install -r requirements.txt"
   ]
  },
  {
   "cell_type": "markdown",
   "id": "fbb84549-b5dd-4e6e-9315-797f6b929f01",
   "metadata": {},
   "source": [
    "Lastly, we will want one last bit of extras which installs the fast and responsive scrollplot."
   ]
  },
  {
   "cell_type": "code",
   "execution_count": null,
   "id": "73643cc8-9949-4099-944f-9c5e45931f35",
   "metadata": {
    "scrolled": true
   },
   "outputs": [],
   "source": [
    "!pip install PyQt5 mne-qt-browser"
   ]
  },
  {
   "cell_type": "code",
   "execution_count": null,
   "id": "dea0bb6b-05cf-4b58-b577-baf058e0616f",
   "metadata": {},
   "outputs": [],
   "source": [
    "raw.plot(picks='eeg')"
   ]
  },
  {
   "cell_type": "markdown",
   "id": "e8465c02-b226-462b-bbca-8d833b82afcf",
   "metadata": {},
   "source": [
    "This may error or cause crashing. Depending on the system you are on, consider installing `qtbase5-dev` inside of your external console.\n",
    "\n",
    "If you are not sure what this means, please open an issue on the GitHub or contact Tyler."
   ]
  }
 ],
 "metadata": {
  "kernelspec": {
   "display_name": "Python 3 (ipykernel)",
   "language": "python",
   "name": "python3"
  },
  "language_info": {
   "codemirror_mode": {
    "name": "ipython",
    "version": 3
   },
   "file_extension": ".py",
   "mimetype": "text/x-python",
   "name": "python",
   "nbconvert_exporter": "python",
   "pygments_lexer": "ipython3",
   "version": "3.11.0rc1"
  }
 },
 "nbformat": 4,
 "nbformat_minor": 5
}
