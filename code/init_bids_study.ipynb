{
 "cells": [
  {
   "cell_type": "markdown",
   "id": "4bcd9c4e-92ae-4efb-a4a0-5396f86c3759",
   "metadata": {},
   "source": [
    "# Initializing a BIDS Study\n",
    "\n",
    "This notebook takes operates on the `sourcedata` folder inside of the StudyTemplate and attempts to BIDSify what is present.\n",
    "\n",
    "The first step is to see what is present inside of the `sourcedata` folder via the `glob` package:"
   ]
  },
  {
   "cell_type": "code",
   "execution_count": 1,
   "id": "62788ade-9a4a-4a31-9124-732d1cfcb09c",
   "metadata": {},
   "outputs": [
    {
     "data": {
      "text/plain": [
       "['../sourcedata/IC_trn_2.bdf',\n",
       " '../sourcedata/IC_trn_1.bdf',\n",
       " '../sourcedata/IC_trn_3.bdf',\n",
       " '../sourcedata/IC_trn_4.bdf',\n",
       " '../sourcedata/README.md']"
      ]
     },
     "execution_count": 1,
     "metadata": {},
     "output_type": "execute_result"
    }
   ],
   "source": [
    "import glob\n",
    "\n",
    "glob.glob('../sourcedata/*')"
   ]
  },
  {
   "cell_type": "markdown",
   "id": "89d0e3aa-ec90-4e95-b2ee-1d9ccc590b1c",
   "metadata": {},
   "source": [
    "Next, let's look at what one recording looks like:"
   ]
  },
  {
   "cell_type": "code",
   "execution_count": 2,
   "id": "97f47873-1793-4263-930c-5db4128d5608",
   "metadata": {},
   "outputs": [
    {
     "name": "stdout",
     "output_type": "stream",
     "text": [
      "Extracting EDF parameters from /home/tyler/Documents/eeg-dev/StudyTemplate/sourcedata/IC_trn_2.bdf...\n",
      "BDF file detected\n",
      "Setting channel info structure...\n",
      "Creating raw.info structure...\n"
     ]
    },
    {
     "data": {
      "text/html": [
       "<details open>\n",
       "    <summary><strong>General</strong></summary>\n",
       "    <table class=\"table table-hover table-striped table-sm table-responsive small\">\n",
       "        <tr>\n",
       "            <th>Measurement date</th>\n",
       "            \n",
       "            <td>August 31, 2009  14:39:08 GMT</td>\n",
       "            \n",
       "        </tr>\n",
       "        <tr>\n",
       "            <th>Experimenter</th>\n",
       "            \n",
       "            <td>Unknown</td>\n",
       "            \n",
       "        </tr>\n",
       "        <tr>\n",
       "            <th>Participant</th>\n",
       "            \n",
       "            \n",
       "            <td></td>\n",
       "            \n",
       "            \n",
       "        </tr>\n",
       "    </table>\n",
       "    </details>\n",
       "    <details open>\n",
       "        <summary><strong>Channels</strong></summary>\n",
       "        <table class=\"table table-hover table-striped table-sm table-responsive small\">\n",
       "            <tr>\n",
       "                <th>Digitized points</th>\n",
       "                \n",
       "                <td>Not available</td>\n",
       "                \n",
       "            </tr>\n",
       "            <tr>\n",
       "                <th>Good channels</th>\n",
       "                <td>128 EEG, 1 Stimulus</td>\n",
       "            </tr>\n",
       "            <tr>\n",
       "                <th>Bad channels</th>\n",
       "                <td>None</td>\n",
       "            </tr>\n",
       "            <tr>\n",
       "                <th>EOG channels</th>\n",
       "                <td>Not available</td>\n",
       "            </tr>\n",
       "            <tr>\n",
       "                <th>ECG channels</th>\n",
       "                <td>Not available</td>\n",
       "            </tr>\n",
       "        </table>\n",
       "        </details>\n",
       "        <details open>\n",
       "            <summary><strong>Data</strong></summary>\n",
       "            <table class=\"table table-hover table-striped table-sm table-responsive small\">\n",
       "                \n",
       "                <tr>\n",
       "                    <th>Sampling frequency</th>\n",
       "                    <td>1024.00 Hz</td>\n",
       "                </tr>\n",
       "                \n",
       "                \n",
       "                <tr>\n",
       "                    <th>Highpass</th>\n",
       "                    <td>0.00 Hz</td>\n",
       "                </tr>\n",
       "                \n",
       "                \n",
       "                <tr>\n",
       "                    <th>Lowpass</th>\n",
       "                    <td>268.00 Hz</td>\n",
       "                </tr>\n",
       "                \n",
       "                \n",
       "                \n",
       "                <tr>\n",
       "                    <th>Filenames</th>\n",
       "                    <td>IC_trn_2.bdf</td>\n",
       "                </tr>\n",
       "                \n",
       "                \n",
       "                <tr>\n",
       "                    <th>Duration</th>\n",
       "                    <td>00:05:03 (HH:MM:SS)</td>\n",
       "                </tr>\n",
       "                \n",
       "            </table>\n",
       "            </details>"
      ],
      "text/plain": [
       "<RawEDF | IC_trn_2.bdf, 129 x 310272 (303.0 s), ~125 kB, data not loaded>"
      ]
     },
     "execution_count": 2,
     "metadata": {},
     "output_type": "execute_result"
    }
   ],
   "source": [
    "import mne\n",
    "raw = mne.io.read_raw('../sourcedata/IC_trn_2.bdf')\n",
    "raw"
   ]
  },
  {
   "cell_type": "markdown",
   "id": "c4bf476d-6340-4ff6-b25f-be6bc34885d9",
   "metadata": {},
   "source": [
    "Some things that jump out and require intervention:\n",
    "\n",
    "* The sampling rate is quite high\n",
    "* There's no montage information\n",
    "* The reference is still based on the one from the amplifier\n",
    "\n",
    "Here's how to fix them:"
   ]
  },
  {
   "cell_type": "code",
   "execution_count": 3,
   "id": "57278bd9-e6c8-43be-91c0-5a8ee8353fef",
   "metadata": {},
   "outputs": [
    {
     "name": "stdout",
     "output_type": "stream",
     "text": [
      "Reading 0 ... 310271  =      0.000 ...   302.999 secs...\n",
      "EEG channel type selected for re-referencing\n",
      "Applying average reference.\n",
      "Applying a custom ('EEG',) reference.\n"
     ]
    },
    {
     "data": {
      "text/html": [
       "<details open>\n",
       "    <summary><strong>General</strong></summary>\n",
       "    <table class=\"table table-hover table-striped table-sm table-responsive small\">\n",
       "        <tr>\n",
       "            <th>Measurement date</th>\n",
       "            \n",
       "            <td>August 31, 2009  14:39:08 GMT</td>\n",
       "            \n",
       "        </tr>\n",
       "        <tr>\n",
       "            <th>Experimenter</th>\n",
       "            \n",
       "            <td>Unknown</td>\n",
       "            \n",
       "        </tr>\n",
       "        <tr>\n",
       "            <th>Participant</th>\n",
       "            \n",
       "            \n",
       "            <td></td>\n",
       "            \n",
       "            \n",
       "        </tr>\n",
       "    </table>\n",
       "    </details>\n",
       "    <details open>\n",
       "        <summary><strong>Channels</strong></summary>\n",
       "        <table class=\"table table-hover table-striped table-sm table-responsive small\">\n",
       "            <tr>\n",
       "                <th>Digitized points</th>\n",
       "                \n",
       "                <td>131 points</td>\n",
       "                \n",
       "            </tr>\n",
       "            <tr>\n",
       "                <th>Good channels</th>\n",
       "                <td>128 EEG, 1 Stimulus</td>\n",
       "            </tr>\n",
       "            <tr>\n",
       "                <th>Bad channels</th>\n",
       "                <td>None</td>\n",
       "            </tr>\n",
       "            <tr>\n",
       "                <th>EOG channels</th>\n",
       "                <td>Not available</td>\n",
       "            </tr>\n",
       "            <tr>\n",
       "                <th>ECG channels</th>\n",
       "                <td>Not available</td>\n",
       "            </tr>\n",
       "        </table>\n",
       "        </details>\n",
       "        <details open>\n",
       "            <summary><strong>Data</strong></summary>\n",
       "            <table class=\"table table-hover table-striped table-sm table-responsive small\">\n",
       "                \n",
       "                <tr>\n",
       "                    <th>Sampling frequency</th>\n",
       "                    <td>1024.00 Hz</td>\n",
       "                </tr>\n",
       "                \n",
       "                \n",
       "                <tr>\n",
       "                    <th>Highpass</th>\n",
       "                    <td>0.00 Hz</td>\n",
       "                </tr>\n",
       "                \n",
       "                \n",
       "                <tr>\n",
       "                    <th>Lowpass</th>\n",
       "                    <td>268.00 Hz</td>\n",
       "                </tr>\n",
       "                \n",
       "                \n",
       "                \n",
       "                <tr>\n",
       "                    <th>Filenames</th>\n",
       "                    <td>IC_trn_2.bdf</td>\n",
       "                </tr>\n",
       "                \n",
       "                \n",
       "                <tr>\n",
       "                    <th>Duration</th>\n",
       "                    <td>00:05:03 (HH:MM:SS)</td>\n",
       "                </tr>\n",
       "                \n",
       "            </table>\n",
       "            </details>"
      ],
      "text/plain": [
       "<RawEDF | IC_trn_2.bdf, 129 x 310272 (303.0 s), ~305.5 MB, data loaded>"
      ]
     },
     "execution_count": 3,
     "metadata": {},
     "output_type": "execute_result"
    }
   ],
   "source": [
    "# raw = raw.resample(128) # This can take a lot of time to run\n",
    "raw.load_data()\n",
    "raw = raw.set_montage('biosemi128')\n",
    "raw = raw.set_eeg_reference('average')\n",
    "raw"
   ]
  },
  {
   "cell_type": "markdown",
   "id": "fc606051-6986-4633-81a4-8329a59476d9",
   "metadata": {},
   "source": [
    "It is best to use the above cells to figure out what needs to be done to your data before it is in a good enough state to write to BIDS.\n",
    "\n",
    "Other things may include:\n",
    "* Manually marking out already known bad channels\n",
    "* Merging files together\n",
    "* Setting in-task/out-task time periods\n",
    "\n",
    "Once everything has been figured out, you can take that procedure and turn it into a loop for all subjects inside of your `sourcedata` folder as shown below."
   ]
  },
  {
   "cell_type": "code",
   "execution_count": 4,
   "id": "1fae2c04-3f49-43fc-a210-ac9a280b895f",
   "metadata": {},
   "outputs": [],
   "source": [
    "del raw # This just clears the previous raw, just to be safe."
   ]
  },
  {
   "cell_type": "code",
   "execution_count": 8,
   "id": "d72826a9-332e-4b42-b05b-ee0d963ee1e3",
   "metadata": {
    "scrolled": true
   },
   "outputs": [
    {
     "name": "stdout",
     "output_type": "stream",
     "text": [
      "Extracting EDF parameters from /home/tyler/Documents/eeg-dev/StudyTemplate/sourcedata/IC_trn_2.bdf...\n",
      "BDF file detected\n",
      "Setting channel info structure...\n",
      "Creating raw.info structure...\n",
      "Reading 0 ... 310271  =      0.000 ...   302.999 secs...\n",
      "EEG channel type selected for re-referencing\n",
      "Applying average reference.\n",
      "Applying a custom ('EEG',) reference.\n",
      "Trigger channel Status has a non-zero initial value of {initial_value} (consider using initial_event=True to detect this event)\n",
      "Removing orphaned offset at the beginning of the file.\n",
      "399 events found on stim channel Status\n",
      "Event IDs: [201 204 211 212 213 214 215 216]\n",
      "Writing '../participants.tsv'...\n",
      "Writing '../participants.json'...\n",
      "Writing '../sub-2/eeg/sub-2_space-CapTrak_electrodes.tsv'...\n",
      "Writing '../sub-2/eeg/sub-2_space-CapTrak_coordsystem.json'...\n",
      "Used Annotations descriptions: [np.str_('press/left'), np.str_('press/right'), np.str_('static/checker/left'), np.str_('static/checker/right'), np.str_('static/face/inverted'), np.str_('static/face/upright'), np.str_('static/house/inverted'), np.str_('static/house/upright')]\n",
      "Writing '../sub-2/eeg/sub-2_task-fhbc_events.tsv'...\n",
      "Writing '../sub-2/eeg/sub-2_task-fhbc_events.json'...\n",
      "Writing '../dataset_description.json'...\n",
      "Writing '../sub-2/eeg/sub-2_task-fhbc_eeg.json'...\n",
      "Writing '../sub-2/eeg/sub-2_task-fhbc_channels.tsv'...\n",
      "Copying data files to sub-2_task-fhbc_eeg.edf\n"
     ]
    },
    {
     "name": "stderr",
     "output_type": "stream",
     "text": [
      "/tmp/ipykernel_255007/3286035083.py:30: RuntimeWarning: Converting data files to EDF format\n",
      "  mne_bids.write_raw_bids(raw, bids_path, events=mne.find_events(raw), event_id=event_dict, format='EDF', allow_preload=True, overwrite=True)\n"
     ]
    },
    {
     "name": "stdout",
     "output_type": "stream",
     "text": [
      "Writing '../sub-2/sub-2_scans.tsv'...\n",
      "Wrote ../sub-2/sub-2_scans.tsv entry with eeg/sub-2_task-fhbc_eeg.edf.\n",
      "Extracting EDF parameters from /home/tyler/Documents/eeg-dev/StudyTemplate/sourcedata/IC_trn_1.bdf...\n",
      "BDF file detected\n",
      "Setting channel info structure...\n",
      "Creating raw.info structure...\n",
      "Reading 0 ... 280575  =      0.000 ...   273.999 secs...\n",
      "EEG channel type selected for re-referencing\n",
      "Applying average reference.\n",
      "Applying a custom ('EEG',) reference.\n",
      "Trigger channel Status has a non-zero initial value of {initial_value} (consider using initial_event=True to detect this event)\n",
      "401 events found on stim channel Status\n",
      "Event IDs: [  201   204   211   212   213   214   215   216 65790]\n",
      "Writing '../participants.tsv'...\n",
      "Writing '../participants.json'...\n",
      "Writing '../sub-1/eeg/sub-1_space-CapTrak_electrodes.tsv'...\n",
      "Writing '../sub-1/eeg/sub-1_space-CapTrak_coordsystem.json'...\n",
      "Used Annotations descriptions: [np.str_('boundary'), np.str_('press/left'), np.str_('press/right'), np.str_('static/checker/left'), np.str_('static/checker/right'), np.str_('static/face/inverted'), np.str_('static/face/upright'), np.str_('static/house/inverted'), np.str_('static/house/upright')]\n",
      "Writing '../sub-1/eeg/sub-1_task-fhbc_events.tsv'...\n",
      "Writing '../sub-1/eeg/sub-1_task-fhbc_events.json'...\n",
      "Writing '../dataset_description.json'...\n",
      "Writing '../sub-1/eeg/sub-1_task-fhbc_eeg.json'...\n",
      "Writing '../sub-1/eeg/sub-1_task-fhbc_channels.tsv'...\n",
      "Copying data files to sub-1_task-fhbc_eeg.edf\n"
     ]
    },
    {
     "name": "stderr",
     "output_type": "stream",
     "text": [
      "/tmp/ipykernel_255007/3286035083.py:30: RuntimeWarning: Converting data files to EDF format\n",
      "  mne_bids.write_raw_bids(raw, bids_path, events=mne.find_events(raw), event_id=event_dict, format='EDF', allow_preload=True, overwrite=True)\n"
     ]
    },
    {
     "name": "stdout",
     "output_type": "stream",
     "text": [
      "Writing '../sub-1/sub-1_scans.tsv'...\n",
      "Wrote ../sub-1/sub-1_scans.tsv entry with eeg/sub-1_task-fhbc_eeg.edf.\n",
      "Extracting EDF parameters from /home/tyler/Documents/eeg-dev/StudyTemplate/sourcedata/IC_trn_3.bdf...\n",
      "BDF file detected\n",
      "Setting channel info structure...\n",
      "Creating raw.info structure...\n",
      "Reading 0 ... 288767  =      0.000 ...   281.999 secs...\n",
      "EEG channel type selected for re-referencing\n",
      "Applying average reference.\n",
      "Applying a custom ('EEG',) reference.\n",
      "Trigger channel Status has a non-zero initial value of {initial_value} (consider using initial_event=True to detect this event)\n",
      "Removing orphaned offset at the beginning of the file.\n",
      "398 events found on stim channel Status\n",
      "Event IDs: [201 204 211 212 213 214 215 216]\n",
      "Writing '../participants.tsv'...\n",
      "Writing '../participants.json'...\n",
      "Writing '../sub-3/eeg/sub-3_space-CapTrak_electrodes.tsv'...\n",
      "Writing '../sub-3/eeg/sub-3_space-CapTrak_coordsystem.json'...\n",
      "Used Annotations descriptions: [np.str_('press/left'), np.str_('press/right'), np.str_('static/checker/left'), np.str_('static/checker/right'), np.str_('static/face/inverted'), np.str_('static/face/upright'), np.str_('static/house/inverted'), np.str_('static/house/upright')]\n",
      "Writing '../sub-3/eeg/sub-3_task-fhbc_events.tsv'...\n",
      "Writing '../sub-3/eeg/sub-3_task-fhbc_events.json'...\n",
      "Writing '../dataset_description.json'...\n",
      "Writing '../sub-3/eeg/sub-3_task-fhbc_eeg.json'...\n",
      "Writing '../sub-3/eeg/sub-3_task-fhbc_channels.tsv'...\n",
      "Copying data files to sub-3_task-fhbc_eeg.edf\n"
     ]
    },
    {
     "name": "stderr",
     "output_type": "stream",
     "text": [
      "/tmp/ipykernel_255007/3286035083.py:30: RuntimeWarning: Converting data files to EDF format\n",
      "  mne_bids.write_raw_bids(raw, bids_path, events=mne.find_events(raw), event_id=event_dict, format='EDF', allow_preload=True, overwrite=True)\n"
     ]
    },
    {
     "name": "stdout",
     "output_type": "stream",
     "text": [
      "Writing '../sub-3/sub-3_scans.tsv'...\n",
      "Wrote ../sub-3/sub-3_scans.tsv entry with eeg/sub-3_task-fhbc_eeg.edf.\n",
      "Extracting EDF parameters from /home/tyler/Documents/eeg-dev/StudyTemplate/sourcedata/IC_trn_4.bdf...\n",
      "BDF file detected\n",
      "Setting channel info structure...\n",
      "Creating raw.info structure...\n",
      "Reading 0 ... 266239  =      0.000 ...   259.999 secs...\n",
      "EEG channel type selected for re-referencing\n",
      "Applying average reference.\n",
      "Applying a custom ('EEG',) reference.\n",
      "Trigger channel Status has a non-zero initial value of {initial_value} (consider using initial_event=True to detect this event)\n",
      "Removing orphaned offset at the beginning of the file.\n",
      "384 events found on stim channel Status\n",
      "Event IDs: [201 204 211 212 213 214 215 216]\n",
      "Writing '../participants.tsv'...\n",
      "Writing '../participants.json'...\n",
      "Writing '../sub-4/eeg/sub-4_space-CapTrak_electrodes.tsv'...\n",
      "Writing '../sub-4/eeg/sub-4_space-CapTrak_coordsystem.json'...\n",
      "Used Annotations descriptions: [np.str_('press/left'), np.str_('press/right'), np.str_('static/checker/left'), np.str_('static/checker/right'), np.str_('static/face/inverted'), np.str_('static/face/upright'), np.str_('static/house/inverted'), np.str_('static/house/upright')]\n",
      "Writing '../sub-4/eeg/sub-4_task-fhbc_events.tsv'...\n",
      "Writing '../sub-4/eeg/sub-4_task-fhbc_events.json'...\n",
      "Writing '../dataset_description.json'...\n",
      "Writing '../sub-4/eeg/sub-4_task-fhbc_eeg.json'...\n",
      "Writing '../sub-4/eeg/sub-4_task-fhbc_channels.tsv'...\n",
      "Copying data files to sub-4_task-fhbc_eeg.edf\n"
     ]
    },
    {
     "name": "stderr",
     "output_type": "stream",
     "text": [
      "/tmp/ipykernel_255007/3286035083.py:30: RuntimeWarning: Converting data files to EDF format\n",
      "  mne_bids.write_raw_bids(raw, bids_path, events=mne.find_events(raw), event_id=event_dict, format='EDF', allow_preload=True, overwrite=True)\n"
     ]
    },
    {
     "name": "stdout",
     "output_type": "stream",
     "text": [
      "Writing '../sub-4/sub-4_scans.tsv'...\n",
      "Wrote ../sub-4/sub-4_scans.tsv entry with eeg/sub-4_task-fhbc_eeg.edf.\n"
     ]
    }
   ],
   "source": [
    "import mne_bids, re, json\n",
    "\n",
    "task_name = 'fhbc' # Standard sort of task naming\n",
    "root_location = '..' # Remember, this is running from inside of the code folder\n",
    "\n",
    "event_dict = {\n",
    "    \"static/checker/left\": 215,\n",
    "    \"press/left\": 201,\n",
    "    \"static/checker/right\": 216,\n",
    "    \"press/right\": 204,\n",
    "    \"static/face/upright\": 211,\n",
    "    \"static/face/inverted\": 212,\n",
    "    \"static/house/upright\": 213,\n",
    "    \"static/house/inverted\": 214,\n",
    "    \"boundary\": 65790,\n",
    "}\n",
    "\n",
    "# A little different than before, only grabs BDFs\n",
    "for file in glob.glob('../sourcedata/*.bdf'):\n",
    "    raw = mne.io.read_raw(file) # Load the file\n",
    "    subject_id = re.findall(r'\\d+', file)[0] # Some intermediate Python; grabs the subject id out of the file path/name\n",
    "\n",
    "    raw.load_data()\n",
    "    raw = raw.set_montage('biosemi128')\n",
    "    raw = raw.set_eeg_reference('average')\n",
    "\n",
    "    # The below two functions are part of the mne bids package and have their\n",
    "    # own documentation that outlines how to interact with them\n",
    "    bids_path = mne_bids.BIDSPath(subject=subject_id, task=task_name, root=root_location)\n",
    "    mne_bids.write_raw_bids(raw, bids_path, events=mne.find_events(raw), event_id=event_dict, format='EDF', allow_preload=True, overwrite=True)"
   ]
  },
  {
   "cell_type": "markdown",
   "id": "545405e7-aee7-4dfe-98d3-5bf582041cbb",
   "metadata": {},
   "source": [
    "A lot of BIDS is about adding some extra metadata to your dataset to make it easier for people to interact with in the future.\n",
    "\n",
    "You can either edit the `dataset_description.json` file in the project's root manually or use the following function.\n",
    "\n",
    "Note that this isn't an exhaustive list of the fields, just a few for example purposes."
   ]
  },
  {
   "cell_type": "code",
   "execution_count": 9,
   "id": "3df34f88-c948-424d-899c-f6cc3f76fc18",
   "metadata": {},
   "outputs": [
    {
     "name": "stdout",
     "output_type": "stream",
     "text": [
      "Writing '../dataset_description.json'...\n"
     ]
    },
    {
     "data": {
      "text/plain": [
       "{'Name': 'StudyTemplate',\n",
       " 'BIDSVersion': '1.7.0',\n",
       " 'DatasetType': 'raw',\n",
       " 'License': 'CC0',\n",
       " 'Authors': [\"Tyler K. Collins', 'James A. Desjardins\"],\n",
       " 'Acknowledgements': 'Tyler K. Collins and James A. Desjardins',\n",
       " 'HowToAcknowledge': 'This is part of a StudyTemplate taken from https://github.com/Andesha/StudyTemplate/',\n",
       " 'ReferencesAndLinks': ['https://github.com/Andesha/StudyTemplate/']}"
      ]
     },
     "metadata": {},
     "output_type": "display_data"
    }
   ],
   "source": [
    "mne_bids.make_dataset_description(\n",
    "    path=root_location,\n",
    "    name='StudyTemplate',\n",
    "    authors=[\"Tyler K. Collins', 'James A. Desjardins\"],\n",
    "    how_to_acknowledge=\"This is part of a StudyTemplate taken from https://github.com/Andesha/StudyTemplate/\",\n",
    "    acknowledgements=\"Tyler K. Collins and James A. Desjardins\",\n",
    "    data_license=\"CC0\",\n",
    "    references_and_links=[\n",
    "        \"https://github.com/Andesha/StudyTemplate/\",\n",
    "    ],\n",
    "    overwrite=True,\n",
    ")\n",
    "desc_json_path = bids_path.root / \"dataset_description.json\"\n",
    "with open(desc_json_path, encoding=\"utf-8-sig\") as fid:\n",
    "    display(json.loads(fid.read()))"
   ]
  }
 ],
 "metadata": {
  "kernelspec": {
   "display_name": "Python 3 (ipykernel)",
   "language": "python",
   "name": "python3"
  },
  "language_info": {
   "codemirror_mode": {
    "name": "ipython",
    "version": 3
   },
   "file_extension": ".py",
   "mimetype": "text/x-python",
   "name": "python",
   "nbconvert_exporter": "python",
   "pygments_lexer": "ipython3",
   "version": "3.10.12"
  }
 },
 "nbformat": 4,
 "nbformat_minor": 5
}
