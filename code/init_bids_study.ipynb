{
 "cells": [
  {
   "cell_type": "markdown",
   "id": "4bcd9c4e-92ae-4efb-a4a0-5396f86c3759",
   "metadata": {},
   "source": [
    "# Initializing a BIDS Study\n",
    "\n",
    "This notebook takes operates on the `sourcedata` folder inside of the StudyTemplate and attempts to BIDSify what is present.\n",
    "\n",
    "The first step is to see what is present inside of the `sourcedata` folder via the `glob` package:"
   ]
  },
  {
   "cell_type": "code",
   "execution_count": null,
   "id": "62788ade-9a4a-4a31-9124-732d1cfcb09c",
   "metadata": {},
   "outputs": [],
   "source": [
    "import glob\n",
    "\n",
    "glob.glob('../sourcedata/*')"
   ]
  },
  {
   "cell_type": "markdown",
   "id": "89d0e3aa-ec90-4e95-b2ee-1d9ccc590b1c",
   "metadata": {},
   "source": [
    "Next, let's look at what one recording looks like:"
   ]
  },
  {
   "cell_type": "code",
   "execution_count": null,
   "id": "97f47873-1793-4263-930c-5db4128d5608",
   "metadata": {},
   "outputs": [],
   "source": [
    "import mne\n",
    "raw = mne.io.read_raw('../sourcedata/IC_trn_2.bdf')\n",
    "raw"
   ]
  },
  {
   "cell_type": "markdown",
   "id": "c4bf476d-6340-4ff6-b25f-be6bc34885d9",
   "metadata": {},
   "source": [
    "Some things that jump out and require intervention:\n",
    "\n",
    "* The sampling rate is quite high\n",
    "* There's no montage information\n",
    "* The reference is still based on the one from the amplifier\n",
    "\n",
    "Here's how to fix them:"
   ]
  },
  {
   "cell_type": "code",
   "execution_count": null,
   "id": "57278bd9-e6c8-43be-91c0-5a8ee8353fef",
   "metadata": {},
   "outputs": [],
   "source": [
    "# raw = raw.resample(128) # This can take a lot of time to run\n",
    "raw.load_data()\n",
    "raw = raw.set_montage('biosemi128')\n",
    "raw = raw.set_eeg_reference('average')\n",
    "raw"
   ]
  },
  {
   "cell_type": "markdown",
   "id": "fc606051-6986-4633-81a4-8329a59476d9",
   "metadata": {},
   "source": [
    "It is best to use the above cells to figure out what needs to be done to your data before it is in a good enough state to write to BIDS.\n",
    "\n",
    "Other things may include:\n",
    "* Manually marking out already known bad channels\n",
    "* Merging files together\n",
    "* Setting in-task/out-task time periods\n",
    "\n",
    "Once everything has been figured out, you can take that procedure and turn it into a loop for all subjects inside of your `sourcedata` folder as shown below."
   ]
  },
  {
   "cell_type": "code",
   "execution_count": null,
   "id": "1fae2c04-3f49-43fc-a210-ac9a280b895f",
   "metadata": {},
   "outputs": [],
   "source": [
    "del raw # This just clears the previous raw, just to be safe."
   ]
  },
  {
   "cell_type": "code",
   "execution_count": null,
   "id": "d72826a9-332e-4b42-b05b-ee0d963ee1e3",
   "metadata": {
    "scrolled": true
   },
   "outputs": [],
   "source": [
    "import mne_bids, re, json\n",
    "\n",
    "task_name = 'fhbc' # Standard sort of task naming\n",
    "root_location = '..' # Remember, this is running from inside of the code folder\n",
    "\n",
    "# A little different than before, only grabs BDFs\n",
    "for file in glob.glob('../sourcedata/*.bdf'):\n",
    "    raw = mne.io.read_raw(file) # Load the file\n",
    "    subject_id = re.findall(r'\\d+', file)[0] # Some intermediate Python; grabs the subject id out of the file path/name\n",
    "\n",
    "    raw.load_data()\n",
    "    raw = raw.set_montage('biosemi128')\n",
    "    raw = raw.set_eeg_reference('average')\n",
    "\n",
    "    # The below two functions are part of the mne bids package and have their\n",
    "    # own documentation that outlines how to interact with them\n",
    "    bids_path = mne_bids.BIDSPath(subject=subject_id, task=task_name, root=root_location)\n",
    "    mne_bids.write_raw_bids(raw, bids_path, format='EDF', allow_preload=True, overwrite=True)"
   ]
  },
  {
   "cell_type": "markdown",
   "id": "545405e7-aee7-4dfe-98d3-5bf582041cbb",
   "metadata": {},
   "source": [
    "A lot of BIDS is about adding some extra metadata to your dataset to make it easier for people to interact with in the future.\n",
    "\n",
    "You can either edit the `dataset_description.json` file in the project's root manually or use the following function.\n",
    "\n",
    "Note that this isn't an exhaustive list of the fields, just a few for example purposes."
   ]
  },
  {
   "cell_type": "code",
   "execution_count": null,
   "id": "3df34f88-c948-424d-899c-f6cc3f76fc18",
   "metadata": {},
   "outputs": [],
   "source": [
    "mne_bids.make_dataset_description(\n",
    "    path=root_location,\n",
    "    name='StudyTemplate',\n",
    "    authors=[\"Tyler K. Collins', 'James A. Desjardins\"],\n",
    "    how_to_acknowledge=\"This is part of a StudyTemplate taken from https://github.com/Andesha/StudyTemplate/\",\n",
    "    acknowledgements=\"Tyler K. Collins and James A. Desjardins\",\n",
    "    data_license=\"CC0\",\n",
    "    references_and_links=[\n",
    "        \"https://github.com/Andesha/StudyTemplate/\",\n",
    "    ],\n",
    "    overwrite=True,\n",
    ")\n",
    "desc_json_path = bids_path.root / \"dataset_description.json\"\n",
    "with open(desc_json_path, encoding=\"utf-8-sig\") as fid:\n",
    "    display(json.loads(fid.read()))"
   ]
  }
 ],
 "metadata": {
  "kernelspec": {
   "display_name": "Python 3 (ipykernel)",
   "language": "python",
   "name": "python3"
  },
  "language_info": {
   "codemirror_mode": {
    "name": "ipython",
    "version": 3
   },
   "file_extension": ".py",
   "mimetype": "text/x-python",
   "name": "python",
   "nbconvert_exporter": "python",
   "pygments_lexer": "ipython3",
   "version": "3.10.12"
  }
 },
 "nbformat": 4,
 "nbformat_minor": 5
}
