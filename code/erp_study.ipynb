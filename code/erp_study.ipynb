{
 "cells": [
  {
   "cell_type": "markdown",
   "id": "4ac2e6a1-ae69-42e5-bde5-bf7eff2a0eae",
   "metadata": {},
   "source": [
    "# Traditional ERP Study"
   ]
  },
  {
   "cell_type": "code",
   "execution_count": null,
   "id": "f46c317f-c441-4e83-988e-6b7b007398c1",
   "metadata": {},
   "outputs": [],
   "source": [
    "import mne\n",
    "import glob"
   ]
  },
  {
   "cell_type": "code",
   "execution_count": null,
   "id": "2a601c50-5591-470b-a391-79af1cdf8ecc",
   "metadata": {},
   "outputs": [],
   "source": [
    "conditions = ['face', 'house'] # What you would expect a researcher to provide\n",
    "averaging_dict = {k:[] for k in conditions}\n",
    "averaging_dict"
   ]
  },
  {
   "cell_type": "code",
   "execution_count": null,
   "id": "0f7777eb-82f3-4301-803a-e9c77f4cbf31",
   "metadata": {},
   "outputs": [],
   "source": [
    "reject_criteria = {\n",
    "    'eeg': 150e-6,  # 150 µV\n",
    "}"
   ]
  },
  {
   "cell_type": "code",
   "execution_count": null,
   "id": "ed690a11-ed68-4777-a0ea-b22cc84fce7d",
   "metadata": {},
   "outputs": [],
   "source": [
    "for file in glob.glob('../derivatives/quick_clean/sub-*/eeg/*.fif'):\n",
    "    raw = mne.io.read_raw(file)\n",
    "    raw.info['bads'] = ['C10']\n",
    "    events, event_dict = mne.events_from_annotations(raw)\n",
    "    \n",
    "    epochs = mne.Epochs(\n",
    "        raw,\n",
    "        events,\n",
    "        event_id=event_dict,\n",
    "        tmin=-0.2,\n",
    "        tmax=0.6,\n",
    "        reject=reject_criteria,\n",
    "        preload=True,\n",
    "    )\n",
    "\n",
    "    for condition in conditions:\n",
    "        averaging_dict[condition].append(epochs[condition].average())"
   ]
  },
  {
   "cell_type": "code",
   "execution_count": null,
   "id": "080c1a4b-47a1-4e66-a4d6-6306e6404367",
   "metadata": {},
   "outputs": [],
   "source": [
    "{k:len(v) for k,v in averaging_dict.items()}"
   ]
  },
  {
   "cell_type": "code",
   "execution_count": null,
   "id": "56989581-6591-4d7c-aeb9-25a4ac8532ec",
   "metadata": {},
   "outputs": [],
   "source": [
    "mne.viz.plot_compare_evokeds(averaging_dict, picks=['A22', 'A23'], combine='mean')"
   ]
  }
 ],
 "metadata": {
  "kernelspec": {
   "display_name": "Python 3 (ipykernel)",
   "language": "python",
   "name": "python3"
  },
  "language_info": {
   "codemirror_mode": {
    "name": "ipython",
    "version": 3
   },
   "file_extension": ".py",
   "mimetype": "text/x-python",
   "name": "python",
   "nbconvert_exporter": "python",
   "pygments_lexer": "ipython3",
   "version": "3.10.12"
  }
 },
 "nbformat": 4,
 "nbformat_minor": 5
}
