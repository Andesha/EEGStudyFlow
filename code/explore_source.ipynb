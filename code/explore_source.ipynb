{
 "cells": [
  {
   "cell_type": "markdown",
   "id": "0ab01fe0-ffce-4748-92e9-cf6c5bca90a1",
   "metadata": {},
   "source": [
    "# Exploring Source Data\n",
    "\n",
    "The purpose of this notebook is to investigate a single source file to determine what is necessary for initialization and eventually, artifact rejection.\n",
    "\n",
    "For instructive purposes, this notebook may be run in various orders to demonstrate how various functions behave.\n",
    "\n",
    "The browser backend call below is a secondary type of import that allows for interactive and responsive figures."
   ]
  },
  {
   "cell_type": "code",
   "execution_count": 1,
   "id": "f8617a58-f223-49fb-975f-44165cb90fed",
   "metadata": {},
   "outputs": [
    {
     "name": "stdout",
     "output_type": "stream",
     "text": [
      "Using qt as 2D backend.\n"
     ]
    }
   ],
   "source": [
    "import mne\n",
    "mne.viz.set_browser_backend('qt') # Use the fancier figures when possible"
   ]
  },
  {
   "cell_type": "code",
   "execution_count": 2,
   "id": "883e8ffe-a289-4456-89ce-12fd627ab8fb",
   "metadata": {},
   "outputs": [
    {
     "name": "stdout",
     "output_type": "stream",
     "text": [
      "Extracting EDF parameters from /home/tyler/Documents/eeg-dev/StudyTemplate/sourcedata/IC_trn_1.bdf...\n",
      "BDF file detected\n",
      "Setting channel info structure...\n",
      "Creating raw.info structure...\n",
      "Reading 0 ... 280575  =      0.000 ...   273.999 secs...\n"
     ]
    },
    {
     "data": {
      "text/html": [
       "<details open>\n",
       "    <summary><strong>General</strong></summary>\n",
       "    <table class=\"table table-hover table-striped table-sm table-responsive small\">\n",
       "        <tr>\n",
       "            <th>Measurement date</th>\n",
       "            \n",
       "            <td>August 31, 2009  14:25:27 GMT</td>\n",
       "            \n",
       "        </tr>\n",
       "        <tr>\n",
       "            <th>Experimenter</th>\n",
       "            \n",
       "            <td>Unknown</td>\n",
       "            \n",
       "        </tr>\n",
       "        <tr>\n",
       "            <th>Participant</th>\n",
       "            \n",
       "            \n",
       "            <td></td>\n",
       "            \n",
       "            \n",
       "        </tr>\n",
       "    </table>\n",
       "    </details>\n",
       "    <details open>\n",
       "        <summary><strong>Channels</strong></summary>\n",
       "        <table class=\"table table-hover table-striped table-sm table-responsive small\">\n",
       "            <tr>\n",
       "                <th>Digitized points</th>\n",
       "                \n",
       "                <td>Not available</td>\n",
       "                \n",
       "            </tr>\n",
       "            <tr>\n",
       "                <th>Good channels</th>\n",
       "                <td>128 EEG, 1 Stimulus</td>\n",
       "            </tr>\n",
       "            <tr>\n",
       "                <th>Bad channels</th>\n",
       "                <td>None</td>\n",
       "            </tr>\n",
       "            <tr>\n",
       "                <th>EOG channels</th>\n",
       "                <td>Not available</td>\n",
       "            </tr>\n",
       "            <tr>\n",
       "                <th>ECG channels</th>\n",
       "                <td>Not available</td>\n",
       "            </tr>\n",
       "        </table>\n",
       "        </details>\n",
       "        <details open>\n",
       "            <summary><strong>Data</strong></summary>\n",
       "            <table class=\"table table-hover table-striped table-sm table-responsive small\">\n",
       "                \n",
       "                <tr>\n",
       "                    <th>Sampling frequency</th>\n",
       "                    <td>1024.00 Hz</td>\n",
       "                </tr>\n",
       "                \n",
       "                \n",
       "                <tr>\n",
       "                    <th>Highpass</th>\n",
       "                    <td>0.00 Hz</td>\n",
       "                </tr>\n",
       "                \n",
       "                \n",
       "                <tr>\n",
       "                    <th>Lowpass</th>\n",
       "                    <td>268.00 Hz</td>\n",
       "                </tr>\n",
       "                \n",
       "                \n",
       "                \n",
       "                <tr>\n",
       "                    <th>Filenames</th>\n",
       "                    <td>IC_trn_1.bdf</td>\n",
       "                </tr>\n",
       "                \n",
       "                \n",
       "                <tr>\n",
       "                    <th>Duration</th>\n",
       "                    <td>00:04:34 (HH:MM:SS)</td>\n",
       "                </tr>\n",
       "                \n",
       "            </table>\n",
       "            </details>"
      ],
      "text/plain": [
       "<RawEDF | IC_trn_1.bdf, 129 x 280576 (274.0 s), ~276.3 MB, data loaded>"
      ]
     },
     "execution_count": 2,
     "metadata": {},
     "output_type": "execute_result"
    }
   ],
   "source": [
    "subject_file = '../sourcedata/IC_trn_1.bdf'\n",
    "raw = mne.io.read_raw(subject_file, preload=True) # Load the defined subject\n",
    "raw # Last variable in a cell \"spills\" to the output"
   ]
  },
  {
   "cell_type": "code",
   "execution_count": null,
   "id": "a8fffe4f-2615-484f-b2de-86dad2c952b3",
   "metadata": {},
   "outputs": [],
   "source": [
    "raw = raw.filter(l_freq=1.0, h_freq=30.0)"
   ]
  },
  {
   "cell_type": "code",
   "execution_count": null,
   "id": "57dbc280-d86a-4437-b969-6447f9d199c9",
   "metadata": {},
   "outputs": [],
   "source": [
    "%matplotlib inline\n",
    "# \"magic\" cell command, this one keeps the plots in the notebook instead of popping up\n",
    "raw = raw.set_montage('biosemi128')\n",
    "raw = raw.set_eeg_reference('average')\n",
    "_ = raw.plot_sensors(show_names=True)"
   ]
  },
  {
   "cell_type": "code",
   "execution_count": null,
   "id": "212014cf-9548-42d2-9fdb-96fd03fb004f",
   "metadata": {},
   "outputs": [],
   "source": [
    "%matplotlib qt\n",
    "raw.plot_psd()"
   ]
  },
  {
   "cell_type": "markdown",
   "id": "9bb1244c-cc8e-4903-a3f2-c402c060d52d",
   "metadata": {},
   "source": [
    "Plotting the scroll plot of the data can be useful at any time:"
   ]
  },
  {
   "cell_type": "code",
   "execution_count": null,
   "id": "1cb3f728-49f8-40d0-80f6-e0c14345d7cd",
   "metadata": {},
   "outputs": [],
   "source": [
    "%matplotlib qt\n",
    "raw.plot()"
   ]
  },
  {
   "cell_type": "markdown",
   "id": "da7a4755-9176-432e-9378-18f9e457f01b",
   "metadata": {},
   "source": [
    "### Exploring Epochs\n",
    "\n",
    "There are two ways that MNE can extract events from files. Either via dedicated stim channels, or \"annotations\".\n",
    "\n",
    "This example describes stim channels. As such, the `event_dict` must be manually input. These are your standard pin/markers."
   ]
  },
  {
   "cell_type": "code",
   "execution_count": 3,
   "id": "a61afff4-6a24-45b9-b840-7ecad013c4ae",
   "metadata": {},
   "outputs": [
    {
     "name": "stdout",
     "output_type": "stream",
     "text": [
      "Trigger channel Status has a non-zero initial value of {initial_value} (consider using initial_event=True to detect this event)\n",
      "401 events found on stim channel Status\n",
      "Event IDs: [  201   204   211   212   213   214   215   216 65790]\n"
     ]
    },
    {
     "data": {
      "text/plain": [
       "array([[   476,  65536,  65790],\n",
       "       [  6401,      0,    215],\n",
       "       [  6838,      0,    201],\n",
       "       ...,\n",
       "       [274806,      0,    215],\n",
       "       [275169,      0,    201],\n",
       "       [275624,      0,    211]])"
      ]
     },
     "execution_count": 3,
     "metadata": {},
     "output_type": "execute_result"
    }
   ],
   "source": [
    "# event_dict = {\"boundary\": 65791, \"anim/house/upright/f1\": 11, \"anim/house/upright/f2\": 12, \"anim/house/upright/f3\": 13, \"anim/house/upright/f4\": 14, \"anim/house/upright/f5\": 15, \"anim/house/upright/f6\": 16, \"anim/face/upright/f1\": 31, \"anim/face/upright/f2\": 32, \"anim/face/upright/f3\": 33, \"anim/face/upright/f4\": 34, \"anim/face/upright/f5\": 35, \"anim/face/upright/f6\": 36, \"house/inverted/f1\": 21, \"anim/house/inverted/f2\": 22, \"anim/house/inverted/f3\": 23, \"anim/house/inverted/f4\": 24, \"anim/house/inverted/f5\": 25, \"anim/house/inverted/f6\": 26, \"anim/checker/f1\": 51, \"anim/checker/f2\": 52, \"anim/checker/f3\": 53, \"anim/checker/f4\": 54, \"anim/checker/f5\": 55, \"anim/checker/f6\": 56, \"anim/face/inverted/f1\": 41, \"anim/face/inverted/f2\": 42, \"anim/face/inverted/f3\": 43, \"anim/face/inverted/f4\": 44, \"anim/face/inverted/f5\": 45, \"anim/face/inverted/f6\": 46, \"static/checker/left\": 215, \"press/left\": 201, \"static/checker/right\": 216, \"press/right\": 204, \"static/face/upright\": 211, \"static/face/inverted\": 212, \"static/house/upright\": 213, \"static/house/inverted\": 214}\n",
    "event_dict = {\n",
    "    \"static/checker/left\": 215,\n",
    "    \"press/left\": 201,\n",
    "    \"static/checker/right\": 216,\n",
    "    \"press/right\": 204,\n",
    "    \"static/face/upright\": 211,\n",
    "    \"static/face/inverted\": 212,\n",
    "    \"static/house/upright\": 213,\n",
    "    \"static/house/inverted\": 214,\n",
    "}\n",
    "events = mne.find_events(raw)\n",
    "events"
   ]
  },
  {
   "cell_type": "markdown",
   "id": "07c8285f-3e9c-4781-b1c2-aaa7da3bd42f",
   "metadata": {},
   "source": [
    "The format of events is always an array with three elements.\n",
    "\n",
    "1. The sample\n",
    "2. The previously seen event (can be configured to help with segmentation)\n",
    "3. The marker code"
   ]
  },
  {
   "cell_type": "markdown",
   "id": "1c86bbf2-7179-49b5-9eaf-f59fc534d9fc",
   "metadata": {},
   "source": [
    "If you are interested in finding breaks in your task automatically you will need to switch to the \"annotations\" approach. Since this example is using a single Face13 subject, there are no annotations. Here's how to generate them programmatically using the previously defined information:"
   ]
  },
  {
   "cell_type": "code",
   "execution_count": null,
   "id": "450e0522-07db-4b39-ba57-1578956ea0b3",
   "metadata": {},
   "outputs": [],
   "source": [
    "anno = mne.annotations_from_events(events, raw.info['sfreq'], event_desc={v:k for k,v in event_dict.items()})\n",
    "raw.set_annotations(anno)"
   ]
  },
  {
   "cell_type": "code",
   "execution_count": null,
   "id": "239d7ddd-95fb-4375-9baf-a26a35a563d5",
   "metadata": {},
   "outputs": [],
   "source": [
    "break_annots = mne.preprocessing.annotate_break(\n",
    "    raw=raw,\n",
    "    min_break_duration=5,\n",
    "    t_start_after_previous=1,\n",
    "    t_stop_before_next=1,\n",
    ")\n",
    "\n",
    "raw.set_annotations(raw.annotations + break_annots)  # add to existing"
   ]
  },
  {
   "cell_type": "code",
   "execution_count": null,
   "id": "b167f5e1-7292-4da4-a2dd-4cf7aacb7258",
   "metadata": {},
   "outputs": [],
   "source": [
    "raw.plot()"
   ]
  },
  {
   "cell_type": "markdown",
   "id": "127f4c34-83c8-4e9d-9f8f-39ffb01dd4d6",
   "metadata": {},
   "source": [
    "This function is complicated to understand. I strongly recommend visiting the documentation for it and exploring the effect of parameter choices by replotting you data and seeing where it places the breaks.\n",
    "\n",
    "See documentation [here](https://mne.tools/stable/generated/mne.preprocessing.annotate_break.html#mne.preprocessing.annotate_break)."
   ]
  },
  {
   "cell_type": "markdown",
   "id": "d503f43e-fe82-4d43-ae4c-b7120d928508",
   "metadata": {},
   "source": [
    "### Extremely Quick ICA Showcase"
   ]
  },
  {
   "cell_type": "code",
   "execution_count": null,
   "id": "07b87f82-9928-4d12-80e2-9522f7e1eedf",
   "metadata": {},
   "outputs": [],
   "source": [
    "# set up and fit the ICA\n",
    "ica = mne.preprocessing.ICA(n_components=20, random_state=97, max_iter=800)\n",
    "ica.fit(raw)\n",
    "ica.exclude = [1, 2] # details on how we picked these are omitted here\n",
    "ica.plot_properties(raw, picks=ica.exclude)"
   ]
  },
  {
   "cell_type": "code",
   "execution_count": null,
   "id": "b57493f2-9caf-4b3b-bd74-7f0b8490e08b",
   "metadata": {},
   "outputs": [],
   "source": [
    "raw = ica.apply(raw)\n",
    "raw"
   ]
  },
  {
   "cell_type": "markdown",
   "id": "70ef1584-a436-4680-9f56-49ad37458c89",
   "metadata": {},
   "source": [
    "### Finishing Epoching\n",
    "\n",
    "If necessary, you can add channels to a list known as `bads`. In this case, MNE will always ignore it by default.\n",
    "\n",
    "Be careful however, if you try and ask for it directly, it WILL be included in things. If you want to avoid this, you can interpolate via `interpolate_bads`."
   ]
  },
  {
   "cell_type": "code",
   "execution_count": null,
   "id": "9d221467-aaba-40cc-b08a-96d8c2d1de88",
   "metadata": {},
   "outputs": [],
   "source": [
    "raw.info['bads'].append('C10')"
   ]
  },
  {
   "cell_type": "code",
   "execution_count": null,
   "id": "5f9bb1b7-ceb1-4759-b70b-aff93878378a",
   "metadata": {
    "tags": []
   },
   "outputs": [],
   "source": [
    "reject_criteria = dict(\n",
    "    eeg=150e-6,  # 150 µV\n",
    ")\n",
    "\n",
    "epochs = mne.Epochs(\n",
    "    raw,\n",
    "    events,\n",
    "    event_id=event_dict,\n",
    "    tmin=-0.2,\n",
    "    tmax=0.6,\n",
    "    reject=reject_criteria,\n",
    "    preload=True,\n",
    ")\n",
    "epochs"
   ]
  },
  {
   "cell_type": "code",
   "execution_count": null,
   "id": "0ddc2a43-c7a4-4677-b042-83af2bdee1a3",
   "metadata": {},
   "outputs": [],
   "source": [
    "%matplotlib inline\n",
    "epochs['face'].average().plot_joint()\n",
    "_ = epochs['face'].average().plot_topomap(times=[0.0, 0.08, 0.1, 0.12, 0.2])"
   ]
  },
  {
   "cell_type": "code",
   "execution_count": null,
   "id": "d19a9086-e39e-4565-8282-a4091f8307de",
   "metadata": {},
   "outputs": [],
   "source": [
    "%matplotlib inline\n",
    "comparison = {\n",
    "    'press': epochs['press'].average(),\n",
    "    'house': epochs['house'].average(),\n",
    "}\n",
    "mne.viz.plot_compare_evokeds(comparison, combine='mean', picks=['A22', 'A23'])"
   ]
  },
  {
   "cell_type": "code",
   "execution_count": null,
   "id": "b14a62b7-1096-44ea-aa64-deb08095e885",
   "metadata": {},
   "outputs": [],
   "source": [
    "epochs['press'].to_data_frame()"
   ]
  }
 ],
 "metadata": {
  "kernelspec": {
   "display_name": "Python 3 (ipykernel)",
   "language": "python",
   "name": "python3"
  },
  "language_info": {
   "codemirror_mode": {
    "name": "ipython",
    "version": 3
   },
   "file_extension": ".py",
   "mimetype": "text/x-python",
   "name": "python",
   "nbconvert_exporter": "python",
   "pygments_lexer": "ipython3",
   "version": "3.10.12"
  }
 },
 "nbformat": 4,
 "nbformat_minor": 5
}
