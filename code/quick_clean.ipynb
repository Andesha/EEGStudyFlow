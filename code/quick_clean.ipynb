{
 "cells": [
  {
   "cell_type": "markdown",
   "id": "93edc8ba-caa2-438f-9ead-a0173e60c991",
   "metadata": {},
   "source": [
    "# Quick Clean a Study\n",
    "\n",
    "This notebook iterates over each BIDS subject in the project, then cleans and saves them as a derivative called `quick_clean`."
   ]
  },
  {
   "cell_type": "code",
   "execution_count": null,
   "id": "264bf355-9bec-4d27-a9ad-ea6f14a8a667",
   "metadata": {},
   "outputs": [],
   "source": [
    "import mne\n",
    "import mne_bids\n",
    "import os"
   ]
  },
  {
   "cell_type": "code",
   "execution_count": null,
   "id": "ecde5f00-aeff-4de4-912c-7a4be37c4bff",
   "metadata": {},
   "outputs": [],
   "source": [
    "bids_root = '..'\n",
    "task_name = 'fhbc' # TODO: change this to read from the dataset description\n",
    "filtering = (1.0, 30.0)"
   ]
  },
  {
   "cell_type": "code",
   "execution_count": null,
   "id": "67a47b8f-ece2-4365-b54b-f4ebaf22556a",
   "metadata": {},
   "outputs": [],
   "source": [
    "derivatives_path = '../derivatives/quick_clean'\n",
    "os.makedirs(derivatives_path, exist_ok=True)"
   ]
  },
  {
   "cell_type": "code",
   "execution_count": null,
   "id": "1d2388cc-0057-457b-ac2b-8597176b9791",
   "metadata": {},
   "outputs": [],
   "source": [
    "# Identify all subjects in the dataset\n",
    "subjects = mne_bids.get_entity_vals(bids_root, entity_key='subject')\n",
    "\n",
    "# Loop through each subject\n",
    "for subject in subjects:\n",
    "    # Read the raw data for the subject\n",
    "    bids_path = mne_bids.BIDSPath(root=bids_root, subject=subject, task=task_name, suffix='eeg', extension='.edf')\n",
    "    raw = mne_bids.read_raw_bids(bids_path=bids_path)\n",
    "\n",
    "    raw.load_data()\n",
    "    raw = raw.filter(l_freq=filtering[0], h_freq=filtering[1])\n",
    "\n",
    "    # set up and fit the ICA\n",
    "    ica = mne.preprocessing.ICA(n_components=20, random_state=97, max_iter=800)\n",
    "    ica.fit(raw)\n",
    "    ica.exclude = [1, 2] # details on how we picked these are omitted here\n",
    "    ica.plot_properties(raw, picks=ica.exclude)\n",
    "    raw = ica.apply(raw)\n",
    "\n",
    "    derivative_subject_path = f'{derivatives_path}/sub-{subject}/eeg/' \n",
    "    os.makedirs(derivative_subject_path, exist_ok=True)\n",
    "\n",
    "    raw.save(f'{derivative_subject_path}/sub-{subject}_eeg.fif', overwrite=True)"
   ]
  }
 ],
 "metadata": {
  "kernelspec": {
   "display_name": "Python 3 (ipykernel)",
   "language": "python",
   "name": "python3"
  },
  "language_info": {
   "codemirror_mode": {
    "name": "ipython",
    "version": 3
   },
   "file_extension": ".py",
   "mimetype": "text/x-python",
   "name": "python",
   "nbconvert_exporter": "python",
   "pygments_lexer": "ipython3",
   "version": "3.10.12"
  }
 },
 "nbformat": 4,
 "nbformat_minor": 5
}
