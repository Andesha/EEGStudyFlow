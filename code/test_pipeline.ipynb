{
 "cells": [
  {
   "cell_type": "markdown",
   "id": "654cb1c3-1e84-464b-9db9-850477868515",
   "metadata": {},
   "source": [
    "# Lossless Pipeline Demo\n",
    "\n",
    "This notebook install and runs a minimal version of the Lossless pipeline. It assumes you have successfully run the `test_environment` notebook.\n",
    "\n",
    "The first step will include cloning down the pipeline into the support directory."
   ]
  },
  {
   "cell_type": "code",
   "execution_count": null,
   "id": "1f4efa9a-0d56-4e33-8c66-1c48cc6dce4c",
   "metadata": {},
   "outputs": [],
   "source": [
    "!git clone https://github.com/Andesha/pylossless.git support/pylossless"
   ]
  },
  {
   "cell_type": "markdown",
   "id": "b3f1a3e6-58a5-4585-81f5-9cdb5a6831d3",
   "metadata": {},
   "source": [
    "We can validate that the cloning was successful by examining the folder we have cloned to:"
   ]
  },
  {
   "cell_type": "code",
   "execution_count": null,
   "id": "7db8d841-b5be-43e9-9727-7bb640292d4d",
   "metadata": {},
   "outputs": [],
   "source": [
    "!ls support/pylossless"
   ]
  },
  {
   "cell_type": "markdown",
   "id": "4ae42eb0-0c08-4a25-ac49-56150aa70519",
   "metadata": {},
   "source": [
    "Assuming this looks good, we can point `pip` to this folder.\n",
    "\n",
    "**NOTE**: We point pip to a path meaning it builds from the version we cloned down. Not a release version that is not actively maintained."
   ]
  },
  {
   "cell_type": "code",
   "execution_count": null,
   "id": "717854ab-8b71-475c-a63b-6440f3ae1fec",
   "metadata": {},
   "outputs": [],
   "source": [
    "!pip install support/pylossless"
   ]
  },
  {
   "cell_type": "markdown",
   "id": "c615bf70-625f-4f2a-8054-362d33763c5c",
   "metadata": {},
   "source": [
    "If importing works, then the pipeline is likely to run smoothly."
   ]
  },
  {
   "cell_type": "code",
   "execution_count": null,
   "id": "6d34def6-dcd2-4588-85f8-0eaacb70b096",
   "metadata": {},
   "outputs": [],
   "source": [
    "import mne\n",
    "import pylossless as ll"
   ]
  },
  {
   "cell_type": "markdown",
   "id": "49508aa8-e64c-43b5-94b5-6b65b52f28d2",
   "metadata": {},
   "source": [
    "The following creates a default configuration which controls the pipeline"
   ]
  },
  {
   "cell_type": "code",
   "execution_count": null,
   "id": "9fbe8943-ad5d-4075-b312-c21888b3c850",
   "metadata": {},
   "outputs": [],
   "source": [
    "config = ll.config.Config()\n",
    "config.load_default()\n",
    "config.save(\"ll_demo_config.yaml\")\n",
    "config"
   ]
  },
  {
   "cell_type": "markdown",
   "id": "60287173-c9d9-4ad7-bec2-2557e90300f8",
   "metadata": {},
   "source": [
    "Load your own file or use the demo.\n",
    "\n",
    "**NOTE**: The montage for this file must be correctly set."
   ]
  },
  {
   "cell_type": "code",
   "execution_count": null,
   "id": "a16519cf-747d-4933-ae86-ad53aa12f55f",
   "metadata": {},
   "outputs": [],
   "source": [
    "fname = mne.datasets.sample.data_path() / 'MEG' / 'sample' /  'sample_audvis_raw.fif'\n",
    "raw = mne.io.read_raw_fif(fname, preload=True)\n",
    "raw = raw.pick('eeg')\n",
    "raw"
   ]
  },
  {
   "cell_type": "markdown",
   "id": "a253cbcb-8311-4ed8-8086-1285463826f9",
   "metadata": {},
   "source": [
    "Run the pipeline based on the created/edited config file:"
   ]
  },
  {
   "cell_type": "code",
   "execution_count": null,
   "id": "63cc4bfe-e5c2-4823-a42a-a93e54672169",
   "metadata": {},
   "outputs": [],
   "source": [
    "pipeline = ll.LosslessPipeline('ll_demo_config.yaml')\n",
    "pipeline.run_with_raw(raw)"
   ]
  },
  {
   "cell_type": "markdown",
   "id": "1bffd753-58ab-4b69-ab1e-442acf408ecc",
   "metadata": {},
   "source": [
    "If you would like to see a nice summary of what the pipeline found:"
   ]
  },
  {
   "cell_type": "code",
   "execution_count": null,
   "id": "e8c8fb93-b8d8-4c56-b125-8c6a320b6d5a",
   "metadata": {},
   "outputs": [],
   "source": [
    "pipeline"
   ]
  },
  {
   "cell_type": "markdown",
   "id": "87ef759a-2d73-44ef-8dff-e8e93c25154d",
   "metadata": {},
   "source": [
    "If you would like to apply the changes the pipeline suggested:\n",
    "\n",
    "**NOTE**: This brute force trusts iclabel which may be problematic for studies. For now it is this way just to demo."
   ]
  },
  {
   "cell_type": "code",
   "execution_count": null,
   "id": "f0adcc13-c642-4901-982f-683cb5ab3c56",
   "metadata": {},
   "outputs": [],
   "source": [
    "cleaned_state = pipeline.raw.copy()\n",
    "cleaned_state.load_data()\n",
    "\n",
    "pipeline.ica2.exclude = [index for index,comp in pipeline.flags['ic'].iterrows() if comp['ic_type'] in ['eog', 'ecg', 'muscle', 'line_noise', 'channel_noise']]\n",
    "pipeline.ica2.apply(cleaned_state)\n",
    "\n",
    "cleaned_state = cleaned_state.interpolate_bads()\n",
    "\n",
    "cleaned_state"
   ]
  }
 ],
 "metadata": {
  "kernelspec": {
   "display_name": "Python 3 (ipykernel)",
   "language": "python",
   "name": "python3"
  },
  "language_info": {
   "codemirror_mode": {
    "name": "ipython",
    "version": 3
   },
   "file_extension": ".py",
   "mimetype": "text/x-python",
   "name": "python",
   "nbconvert_exporter": "python",
   "pygments_lexer": "ipython3",
   "version": "3.11.0rc1"
  }
 },
 "nbformat": 4,
 "nbformat_minor": 5
}
