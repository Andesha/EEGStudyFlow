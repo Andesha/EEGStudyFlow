{
 "cells": [
  {
   "cell_type": "markdown",
   "id": "bfdcf6ec-5ea5-40fb-a0b4-77ebdf118e3b",
   "metadata": {},
   "source": [
    "# Fully Automatic Peak Picking\n",
    "\n",
    "This notebook loads all subjects and saves the following information into `derivatives/autopick`:\n",
    "\n",
    "* For each subject:\n",
    "    * All four conditons: Target, Standard, Non-target, and Combined-novel\n",
    "        * P3 Average amplitude at times 300-400ms, 400-500ms and 500-600 ms\n",
    "            *  Sites: 62 72 77 67 61 78 53 86\n",
    "        * N2 peak negativity between 200-320ms\n",
    "            * Sites: E6, E11, E7, 106, 13  112, 6, 12  5, 11, 19, 4\n",
    "* A subject is rejected if they possess less than 50% of the original trial counts"
   ]
  },
  {
   "cell_type": "code",
   "execution_count": 1,
   "id": "2dab64ac-71ce-404e-b55a-4f93192ed0bd",
   "metadata": {},
   "outputs": [],
   "source": [
    "conditions = {\n",
    "    'Target': 'VO21',\n",
    "    'Non-target': 'VO22',\n",
    "    'Standard': 'VO23',\n",
    "    'Combined-novel': ['VO24', 'VO25'],\n",
    "}\n",
    "trial_counts = {\n",
    "    'Target': 50,\n",
    "    'Non-target': 50,\n",
    "    'Standard': 200,\n",
    "    'Combined-novel': 50,\n",
    "}\n",
    "p3_sites = ['E77', 'E67', 'E72', 'E61', 'E53', 'E86', 'E62', 'E78']\n",
    "n2_sites = ['E12', 'E11', 'E19', 'E7', 'E6', 'E106', 'E112', 'E5', 'E4', 'E13']"
   ]
  },
  {
   "cell_type": "code",
   "execution_count": 2,
   "id": "af83689f-8fb4-4b0c-a9bd-fdfe773d5707",
   "metadata": {},
   "outputs": [],
   "source": [
    "import glob\n",
    "import mne\n",
    "import numpy as np\n",
    "import re\n",
    "import pandas as pd"
   ]
  },
  {
   "cell_type": "code",
   "execution_count": 3,
   "id": "1979ba22-a8bf-4fe6-92d9-8f6eba2b0ed8",
   "metadata": {
    "scrolled": true
   },
   "outputs": [
    {
     "name": "stdout",
     "output_type": "stream",
     "text": [
      "Reading /media/tyler/PathstoneProject/PathstoneYAC/derivatives/segmented/yac_1001_pylqcr_eeg.fif ...\n",
      "    Found the data of interest:\n",
      "        t =    -100.00 ...     650.00 ms\n",
      "        0 CTF compensation matrices available\n",
      "Not setting metadata\n",
      "293 matching events found\n",
      "No baseline correction applied\n",
      "0 projection items activated\n",
      "Applying baseline correction (mode: mean)\n",
      "Applying baseline correction (mode: mean)\n",
      "Applying baseline correction (mode: mean)\n"
     ]
    },
    {
     "name": "stderr",
     "output_type": "stream",
     "text": [
      "/tmp/ipykernel_65174/728820736.py:6: RuntimeWarning: This filename (derivatives/segmented/yac_1001_pylqcr_eeg.fif) does not conform to MNE naming conventions. All epochs files should end with -epo.fif, -epo.fif.gz, _epo.fif or _epo.fif.gz\n",
      "  new_epoch = mne.read_epochs(sub)\n"
     ]
    },
    {
     "name": "stdout",
     "output_type": "stream",
     "text": [
      "Applying baseline correction (mode: mean)\n",
      "Reading /media/tyler/PathstoneProject/PathstoneYAC/derivatives/segmented/yac_1002_pylqcr_eeg.fif ...\n",
      "    Found the data of interest:\n",
      "        t =    -100.00 ...     650.00 ms\n",
      "        0 CTF compensation matrices available\n",
      "Not setting metadata\n",
      "333 matching events found\n",
      "No baseline correction applied\n",
      "0 projection items activated\n",
      "Applying baseline correction (mode: mean)\n",
      "Applying baseline correction (mode: mean)\n",
      "Applying baseline correction (mode: mean)\n"
     ]
    },
    {
     "name": "stderr",
     "output_type": "stream",
     "text": [
      "/tmp/ipykernel_65174/728820736.py:6: RuntimeWarning: This filename (derivatives/segmented/yac_1002_pylqcr_eeg.fif) does not conform to MNE naming conventions. All epochs files should end with -epo.fif, -epo.fif.gz, _epo.fif or _epo.fif.gz\n",
      "  new_epoch = mne.read_epochs(sub)\n"
     ]
    },
    {
     "name": "stdout",
     "output_type": "stream",
     "text": [
      "Applying baseline correction (mode: mean)\n",
      "Reading /media/tyler/PathstoneProject/PathstoneYAC/derivatives/segmented/yac_1003_pylqcr_eeg.fif ...\n",
      "    Found the data of interest:\n",
      "        t =    -100.00 ...     650.00 ms\n",
      "        0 CTF compensation matrices available\n",
      "Not setting metadata\n",
      "323 matching events found\n",
      "No baseline correction applied\n",
      "0 projection items activated\n",
      "Applying baseline correction (mode: mean)\n",
      "Applying baseline correction (mode: mean)\n",
      "Applying baseline correction (mode: mean)\n",
      "Applying baseline correction (mode: mean)\n"
     ]
    },
    {
     "name": "stderr",
     "output_type": "stream",
     "text": [
      "/tmp/ipykernel_65174/728820736.py:6: RuntimeWarning: This filename (derivatives/segmented/yac_1003_pylqcr_eeg.fif) does not conform to MNE naming conventions. All epochs files should end with -epo.fif, -epo.fif.gz, _epo.fif or _epo.fif.gz\n",
      "  new_epoch = mne.read_epochs(sub)\n"
     ]
    },
    {
     "name": "stdout",
     "output_type": "stream",
     "text": [
      "Reading /media/tyler/PathstoneProject/PathstoneYAC/derivatives/segmented/yac_1004_pylqcr_eeg.fif ...\n",
      "    Found the data of interest:\n",
      "        t =    -100.00 ...     650.00 ms\n",
      "        0 CTF compensation matrices available\n",
      "Not setting metadata\n",
      "329 matching events found\n",
      "No baseline correction applied\n",
      "0 projection items activated\n",
      "Applying baseline correction (mode: mean)\n",
      "Applying baseline correction (mode: mean)\n",
      "Applying baseline correction (mode: mean)\n"
     ]
    },
    {
     "name": "stderr",
     "output_type": "stream",
     "text": [
      "/tmp/ipykernel_65174/728820736.py:6: RuntimeWarning: This filename (derivatives/segmented/yac_1004_pylqcr_eeg.fif) does not conform to MNE naming conventions. All epochs files should end with -epo.fif, -epo.fif.gz, _epo.fif or _epo.fif.gz\n",
      "  new_epoch = mne.read_epochs(sub)\n"
     ]
    },
    {
     "name": "stdout",
     "output_type": "stream",
     "text": [
      "Applying baseline correction (mode: mean)\n",
      "Reading /media/tyler/PathstoneProject/PathstoneYAC/derivatives/segmented/yac_1005_pylqcr_eeg.fif ...\n",
      "    Found the data of interest:\n",
      "        t =    -100.00 ...     650.00 ms\n",
      "        0 CTF compensation matrices available\n",
      "Not setting metadata\n",
      "330 matching events found\n",
      "No baseline correction applied\n",
      "0 projection items activated\n",
      "Applying baseline correction (mode: mean)\n",
      "Applying baseline correction (mode: mean)\n",
      "Applying baseline correction (mode: mean)\n"
     ]
    },
    {
     "name": "stderr",
     "output_type": "stream",
     "text": [
      "/tmp/ipykernel_65174/728820736.py:6: RuntimeWarning: This filename (derivatives/segmented/yac_1005_pylqcr_eeg.fif) does not conform to MNE naming conventions. All epochs files should end with -epo.fif, -epo.fif.gz, _epo.fif or _epo.fif.gz\n",
      "  new_epoch = mne.read_epochs(sub)\n"
     ]
    },
    {
     "name": "stdout",
     "output_type": "stream",
     "text": [
      "Applying baseline correction (mode: mean)\n",
      "Reading /media/tyler/PathstoneProject/PathstoneYAC/derivatives/segmented/yac_1006_pylqcr_eeg.fif ...\n",
      "    Found the data of interest:\n",
      "        t =    -100.00 ...     650.00 ms\n",
      "        0 CTF compensation matrices available\n",
      "Not setting metadata\n",
      "334 matching events found\n",
      "No baseline correction applied\n",
      "0 projection items activated\n",
      "Applying baseline correction (mode: mean)\n",
      "Applying baseline correction (mode: mean)\n",
      "Applying baseline correction (mode: mean)\n"
     ]
    },
    {
     "name": "stderr",
     "output_type": "stream",
     "text": [
      "/tmp/ipykernel_65174/728820736.py:6: RuntimeWarning: This filename (derivatives/segmented/yac_1006_pylqcr_eeg.fif) does not conform to MNE naming conventions. All epochs files should end with -epo.fif, -epo.fif.gz, _epo.fif or _epo.fif.gz\n",
      "  new_epoch = mne.read_epochs(sub)\n"
     ]
    },
    {
     "name": "stdout",
     "output_type": "stream",
     "text": [
      "Applying baseline correction (mode: mean)\n",
      "Reading /media/tyler/PathstoneProject/PathstoneYAC/derivatives/segmented/yac_1007_pylqcr_eeg.fif ...\n",
      "    Found the data of interest:\n",
      "        t =    -100.00 ...     650.00 ms\n",
      "        0 CTF compensation matrices available\n",
      "Not setting metadata\n",
      "325 matching events found\n",
      "No baseline correction applied\n",
      "0 projection items activated\n",
      "Applying baseline correction (mode: mean)\n",
      "Applying baseline correction (mode: mean)\n",
      "Applying baseline correction (mode: mean)\n",
      "Applying baseline correction (mode: mean)\n"
     ]
    },
    {
     "name": "stderr",
     "output_type": "stream",
     "text": [
      "/tmp/ipykernel_65174/728820736.py:6: RuntimeWarning: This filename (derivatives/segmented/yac_1007_pylqcr_eeg.fif) does not conform to MNE naming conventions. All epochs files should end with -epo.fif, -epo.fif.gz, _epo.fif or _epo.fif.gz\n",
      "  new_epoch = mne.read_epochs(sub)\n"
     ]
    },
    {
     "name": "stdout",
     "output_type": "stream",
     "text": [
      "Reading /media/tyler/PathstoneProject/PathstoneYAC/derivatives/segmented/yac_1008_pylqcr_eeg.fif ...\n",
      "    Found the data of interest:\n",
      "        t =    -100.00 ...     650.00 ms\n",
      "        0 CTF compensation matrices available\n",
      "Not setting metadata\n",
      "327 matching events found\n",
      "No baseline correction applied\n",
      "0 projection items activated\n",
      "Applying baseline correction (mode: mean)\n",
      "Applying baseline correction (mode: mean)\n",
      "Applying baseline correction (mode: mean)\n",
      "Applying baseline correction (mode: mean)\n",
      "Reading /media/tyler/PathstoneProject/PathstoneYAC/derivatives/segmented/yac_1009_pylqcr_eeg.fif ...\n"
     ]
    },
    {
     "name": "stderr",
     "output_type": "stream",
     "text": [
      "/tmp/ipykernel_65174/728820736.py:6: RuntimeWarning: This filename (derivatives/segmented/yac_1008_pylqcr_eeg.fif) does not conform to MNE naming conventions. All epochs files should end with -epo.fif, -epo.fif.gz, _epo.fif or _epo.fif.gz\n",
      "  new_epoch = mne.read_epochs(sub)\n",
      "/tmp/ipykernel_65174/728820736.py:6: RuntimeWarning: This filename (derivatives/segmented/yac_1009_pylqcr_eeg.fif) does not conform to MNE naming conventions. All epochs files should end with -epo.fif, -epo.fif.gz, _epo.fif or _epo.fif.gz\n",
      "  new_epoch = mne.read_epochs(sub)\n"
     ]
    },
    {
     "name": "stdout",
     "output_type": "stream",
     "text": [
      "    Found the data of interest:\n",
      "        t =    -100.00 ...     650.00 ms\n",
      "        0 CTF compensation matrices available\n",
      "Not setting metadata\n",
      "334 matching events found\n",
      "No baseline correction applied\n",
      "0 projection items activated\n",
      "Applying baseline correction (mode: mean)\n",
      "Applying baseline correction (mode: mean)\n",
      "Applying baseline correction (mode: mean)\n",
      "Applying baseline correction (mode: mean)\n",
      "Reading /media/tyler/PathstoneProject/PathstoneYAC/derivatives/segmented/yac_1010_pylqcr_eeg.fif ...\n",
      "    Found the data of interest:\n",
      "        t =    -100.00 ...     650.00 ms\n",
      "        0 CTF compensation matrices available\n",
      "Not setting metadata\n",
      "325 matching events found\n",
      "No baseline correction applied\n",
      "0 projection items activated\n",
      "Applying baseline correction (mode: mean)\n",
      "Applying baseline correction (mode: mean)\n",
      "Applying baseline correction (mode: mean)\n"
     ]
    },
    {
     "name": "stderr",
     "output_type": "stream",
     "text": [
      "/tmp/ipykernel_65174/728820736.py:6: RuntimeWarning: This filename (derivatives/segmented/yac_1010_pylqcr_eeg.fif) does not conform to MNE naming conventions. All epochs files should end with -epo.fif, -epo.fif.gz, _epo.fif or _epo.fif.gz\n",
      "  new_epoch = mne.read_epochs(sub)\n"
     ]
    },
    {
     "name": "stdout",
     "output_type": "stream",
     "text": [
      "Applying baseline correction (mode: mean)\n",
      "Reading /media/tyler/PathstoneProject/PathstoneYAC/derivatives/segmented/yac_1011_pylqcr_eeg.fif ...\n",
      "    Found the data of interest:\n",
      "        t =    -100.00 ...     650.00 ms\n",
      "        0 CTF compensation matrices available\n",
      "Not setting metadata\n",
      "323 matching events found\n",
      "No baseline correction applied\n",
      "0 projection items activated\n",
      "Applying baseline correction (mode: mean)\n",
      "Applying baseline correction (mode: mean)\n"
     ]
    },
    {
     "name": "stderr",
     "output_type": "stream",
     "text": [
      "/tmp/ipykernel_65174/728820736.py:6: RuntimeWarning: This filename (derivatives/segmented/yac_1011_pylqcr_eeg.fif) does not conform to MNE naming conventions. All epochs files should end with -epo.fif, -epo.fif.gz, _epo.fif or _epo.fif.gz\n",
      "  new_epoch = mne.read_epochs(sub)\n"
     ]
    },
    {
     "name": "stdout",
     "output_type": "stream",
     "text": [
      "Applying baseline correction (mode: mean)\n",
      "Applying baseline correction (mode: mean)\n",
      "Reading /media/tyler/PathstoneProject/PathstoneYAC/derivatives/segmented/yac_1012_pylqcr_eeg.fif ...\n",
      "    Found the data of interest:\n",
      "        t =    -100.00 ...     650.00 ms\n",
      "        0 CTF compensation matrices available\n",
      "Not setting metadata\n",
      "311 matching events found\n",
      "No baseline correction applied\n",
      "0 projection items activated\n",
      "Applying baseline correction (mode: mean)\n",
      "Applying baseline correction (mode: mean)\n",
      "Applying baseline correction (mode: mean)\n"
     ]
    },
    {
     "name": "stderr",
     "output_type": "stream",
     "text": [
      "/tmp/ipykernel_65174/728820736.py:6: RuntimeWarning: This filename (derivatives/segmented/yac_1012_pylqcr_eeg.fif) does not conform to MNE naming conventions. All epochs files should end with -epo.fif, -epo.fif.gz, _epo.fif or _epo.fif.gz\n",
      "  new_epoch = mne.read_epochs(sub)\n"
     ]
    },
    {
     "name": "stdout",
     "output_type": "stream",
     "text": [
      "Applying baseline correction (mode: mean)\n",
      "Reading /media/tyler/PathstoneProject/PathstoneYAC/derivatives/segmented/yac_1013_pylqcr_eeg.fif ...\n",
      "    Found the data of interest:\n",
      "        t =    -100.00 ...     650.00 ms\n",
      "        0 CTF compensation matrices available\n",
      "Not setting metadata\n",
      "330 matching events found\n",
      "No baseline correction applied\n",
      "0 projection items activated\n",
      "Applying baseline correction (mode: mean)\n",
      "Applying baseline correction (mode: mean)\n",
      "Applying baseline correction (mode: mean)\n",
      "Applying baseline correction (mode: mean)\n"
     ]
    },
    {
     "name": "stderr",
     "output_type": "stream",
     "text": [
      "/tmp/ipykernel_65174/728820736.py:6: RuntimeWarning: This filename (derivatives/segmented/yac_1013_pylqcr_eeg.fif) does not conform to MNE naming conventions. All epochs files should end with -epo.fif, -epo.fif.gz, _epo.fif or _epo.fif.gz\n",
      "  new_epoch = mne.read_epochs(sub)\n"
     ]
    },
    {
     "name": "stdout",
     "output_type": "stream",
     "text": [
      "Reading /media/tyler/PathstoneProject/PathstoneYAC/derivatives/segmented/yac_1014_pylqcr_eeg.fif ...\n",
      "    Found the data of interest:\n",
      "        t =    -100.00 ...     650.00 ms\n",
      "        0 CTF compensation matrices available\n",
      "Not setting metadata\n",
      "334 matching events found\n",
      "No baseline correction applied\n",
      "0 projection items activated\n",
      "Applying baseline correction (mode: mean)\n",
      "Applying baseline correction (mode: mean)\n",
      "Applying baseline correction (mode: mean)\n"
     ]
    },
    {
     "name": "stderr",
     "output_type": "stream",
     "text": [
      "/tmp/ipykernel_65174/728820736.py:6: RuntimeWarning: This filename (derivatives/segmented/yac_1014_pylqcr_eeg.fif) does not conform to MNE naming conventions. All epochs files should end with -epo.fif, -epo.fif.gz, _epo.fif or _epo.fif.gz\n",
      "  new_epoch = mne.read_epochs(sub)\n"
     ]
    },
    {
     "name": "stdout",
     "output_type": "stream",
     "text": [
      "Applying baseline correction (mode: mean)\n",
      "Reading /media/tyler/PathstoneProject/PathstoneYAC/derivatives/segmented/yac_1015_pylqcr_eeg.fif ...\n",
      "    Found the data of interest:\n",
      "        t =    -100.00 ...     650.00 ms\n",
      "        0 CTF compensation matrices available\n",
      "Not setting metadata\n",
      "290 matching events found\n",
      "No baseline correction applied\n",
      "0 projection items activated\n",
      "Applying baseline correction (mode: mean)\n",
      "Applying baseline correction (mode: mean)\n",
      "Applying baseline correction (mode: mean)\n",
      "Applying baseline correction (mode: mean)\n"
     ]
    },
    {
     "name": "stderr",
     "output_type": "stream",
     "text": [
      "/tmp/ipykernel_65174/728820736.py:6: RuntimeWarning: This filename (derivatives/segmented/yac_1015_pylqcr_eeg.fif) does not conform to MNE naming conventions. All epochs files should end with -epo.fif, -epo.fif.gz, _epo.fif or _epo.fif.gz\n",
      "  new_epoch = mne.read_epochs(sub)\n"
     ]
    },
    {
     "name": "stdout",
     "output_type": "stream",
     "text": [
      "Reading /media/tyler/PathstoneProject/PathstoneYAC/derivatives/segmented/yac_1016_pylqcr_eeg.fif ...\n",
      "    Found the data of interest:\n",
      "        t =    -100.00 ...     650.00 ms\n",
      "        0 CTF compensation matrices available\n",
      "Not setting metadata\n",
      "326 matching events found\n",
      "No baseline correction applied\n",
      "0 projection items activated\n",
      "Applying baseline correction (mode: mean)\n",
      "Applying baseline correction (mode: mean)\n",
      "Applying baseline correction (mode: mean)\n"
     ]
    },
    {
     "name": "stderr",
     "output_type": "stream",
     "text": [
      "/tmp/ipykernel_65174/728820736.py:6: RuntimeWarning: This filename (derivatives/segmented/yac_1016_pylqcr_eeg.fif) does not conform to MNE naming conventions. All epochs files should end with -epo.fif, -epo.fif.gz, _epo.fif or _epo.fif.gz\n",
      "  new_epoch = mne.read_epochs(sub)\n"
     ]
    },
    {
     "name": "stdout",
     "output_type": "stream",
     "text": [
      "Applying baseline correction (mode: mean)\n",
      "Reading /media/tyler/PathstoneProject/PathstoneYAC/derivatives/segmented/yac_1017_pylqcr_eeg.fif ...\n",
      "    Found the data of interest:\n",
      "        t =    -100.00 ...     650.00 ms\n",
      "        0 CTF compensation matrices available\n",
      "Not setting metadata\n",
      "296 matching events found\n",
      "No baseline correction applied\n",
      "0 projection items activated\n",
      "Applying baseline correction (mode: mean)\n",
      "Applying baseline correction (mode: mean)\n",
      "Applying baseline correction (mode: mean)\n"
     ]
    },
    {
     "name": "stderr",
     "output_type": "stream",
     "text": [
      "/tmp/ipykernel_65174/728820736.py:6: RuntimeWarning: This filename (derivatives/segmented/yac_1017_pylqcr_eeg.fif) does not conform to MNE naming conventions. All epochs files should end with -epo.fif, -epo.fif.gz, _epo.fif or _epo.fif.gz\n",
      "  new_epoch = mne.read_epochs(sub)\n"
     ]
    },
    {
     "name": "stdout",
     "output_type": "stream",
     "text": [
      "Applying baseline correction (mode: mean)\n",
      "Reading /media/tyler/PathstoneProject/PathstoneYAC/derivatives/segmented/yac_1018_pylqcr_eeg.fif ...\n",
      "    Found the data of interest:\n",
      "        t =    -100.00 ...     650.00 ms\n",
      "        0 CTF compensation matrices available\n",
      "Not setting metadata\n",
      "320 matching events found\n",
      "No baseline correction applied\n",
      "0 projection items activated\n",
      "Applying baseline correction (mode: mean)\n",
      "Applying baseline correction (mode: mean)\n",
      "Applying baseline correction (mode: mean)\n"
     ]
    },
    {
     "name": "stderr",
     "output_type": "stream",
     "text": [
      "/tmp/ipykernel_65174/728820736.py:6: RuntimeWarning: This filename (derivatives/segmented/yac_1018_pylqcr_eeg.fif) does not conform to MNE naming conventions. All epochs files should end with -epo.fif, -epo.fif.gz, _epo.fif or _epo.fif.gz\n",
      "  new_epoch = mne.read_epochs(sub)\n"
     ]
    },
    {
     "name": "stdout",
     "output_type": "stream",
     "text": [
      "Applying baseline correction (mode: mean)\n",
      "Reading /media/tyler/PathstoneProject/PathstoneYAC/derivatives/segmented/yac_1019_pylqcr_eeg.fif ...\n",
      "    Found the data of interest:\n",
      "        t =    -100.00 ...     650.00 ms\n",
      "        0 CTF compensation matrices available\n",
      "Not setting metadata\n",
      "318 matching events found\n",
      "No baseline correction applied\n",
      "0 projection items activated\n",
      "Applying baseline correction (mode: mean)\n",
      "Applying baseline correction (mode: mean)\n",
      "Applying baseline correction (mode: mean)\n",
      "Applying baseline correction (mode: mean)\n"
     ]
    },
    {
     "name": "stderr",
     "output_type": "stream",
     "text": [
      "/tmp/ipykernel_65174/728820736.py:6: RuntimeWarning: This filename (derivatives/segmented/yac_1019_pylqcr_eeg.fif) does not conform to MNE naming conventions. All epochs files should end with -epo.fif, -epo.fif.gz, _epo.fif or _epo.fif.gz\n",
      "  new_epoch = mne.read_epochs(sub)\n"
     ]
    },
    {
     "name": "stdout",
     "output_type": "stream",
     "text": [
      "Reading /media/tyler/PathstoneProject/PathstoneYAC/derivatives/segmented/yac_1020_pylqcr_eeg.fif ...\n",
      "    Found the data of interest:\n",
      "        t =    -100.00 ...     650.00 ms\n",
      "        0 CTF compensation matrices available\n",
      "Not setting metadata\n",
      "332 matching events found\n",
      "No baseline correction applied\n",
      "0 projection items activated\n",
      "Applying baseline correction (mode: mean)\n",
      "Applying baseline correction (mode: mean)\n",
      "Applying baseline correction (mode: mean)\n"
     ]
    },
    {
     "name": "stderr",
     "output_type": "stream",
     "text": [
      "/tmp/ipykernel_65174/728820736.py:6: RuntimeWarning: This filename (derivatives/segmented/yac_1020_pylqcr_eeg.fif) does not conform to MNE naming conventions. All epochs files should end with -epo.fif, -epo.fif.gz, _epo.fif or _epo.fif.gz\n",
      "  new_epoch = mne.read_epochs(sub)\n"
     ]
    },
    {
     "name": "stdout",
     "output_type": "stream",
     "text": [
      "Applying baseline correction (mode: mean)\n",
      "Reading /media/tyler/PathstoneProject/PathstoneYAC/derivatives/segmented/yac_1021_pylqcr_eeg.fif ...\n",
      "    Found the data of interest:\n",
      "        t =    -100.00 ...     650.00 ms\n",
      "        0 CTF compensation matrices available\n",
      "Not setting metadata\n",
      "333 matching events found\n",
      "No baseline correction applied\n",
      "0 projection items activated\n",
      "Applying baseline correction (mode: mean)\n",
      "Applying baseline correction (mode: mean)\n",
      "Applying baseline correction (mode: mean)\n"
     ]
    },
    {
     "name": "stderr",
     "output_type": "stream",
     "text": [
      "/tmp/ipykernel_65174/728820736.py:6: RuntimeWarning: This filename (derivatives/segmented/yac_1021_pylqcr_eeg.fif) does not conform to MNE naming conventions. All epochs files should end with -epo.fif, -epo.fif.gz, _epo.fif or _epo.fif.gz\n",
      "  new_epoch = mne.read_epochs(sub)\n"
     ]
    },
    {
     "name": "stdout",
     "output_type": "stream",
     "text": [
      "Applying baseline correction (mode: mean)\n",
      "Reading /media/tyler/PathstoneProject/PathstoneYAC/derivatives/segmented/yac_1022_pylqcr_eeg.fif ...\n",
      "    Found the data of interest:\n",
      "        t =    -100.00 ...     650.00 ms\n",
      "        0 CTF compensation matrices available\n",
      "Not setting metadata\n",
      "324 matching events found\n",
      "No baseline correction applied\n",
      "0 projection items activated\n",
      "Applying baseline correction (mode: mean)\n",
      "Applying baseline correction (mode: mean)\n",
      "Applying baseline correction (mode: mean)\n"
     ]
    },
    {
     "name": "stderr",
     "output_type": "stream",
     "text": [
      "/tmp/ipykernel_65174/728820736.py:6: RuntimeWarning: This filename (derivatives/segmented/yac_1022_pylqcr_eeg.fif) does not conform to MNE naming conventions. All epochs files should end with -epo.fif, -epo.fif.gz, _epo.fif or _epo.fif.gz\n",
      "  new_epoch = mne.read_epochs(sub)\n"
     ]
    },
    {
     "name": "stdout",
     "output_type": "stream",
     "text": [
      "Applying baseline correction (mode: mean)\n",
      "Reading /media/tyler/PathstoneProject/PathstoneYAC/derivatives/segmented/yac_1023_pylqcr_eeg.fif ...\n",
      "    Found the data of interest:\n",
      "        t =    -100.00 ...     650.00 ms\n",
      "        0 CTF compensation matrices available\n",
      "Not setting metadata\n",
      "318 matching events found\n",
      "No baseline correction applied\n",
      "0 projection items activated\n",
      "Applying baseline correction (mode: mean)\n",
      "Applying baseline correction (mode: mean)\n",
      "Applying baseline correction (mode: mean)\n"
     ]
    },
    {
     "name": "stderr",
     "output_type": "stream",
     "text": [
      "/tmp/ipykernel_65174/728820736.py:6: RuntimeWarning: This filename (derivatives/segmented/yac_1023_pylqcr_eeg.fif) does not conform to MNE naming conventions. All epochs files should end with -epo.fif, -epo.fif.gz, _epo.fif or _epo.fif.gz\n",
      "  new_epoch = mne.read_epochs(sub)\n"
     ]
    },
    {
     "name": "stdout",
     "output_type": "stream",
     "text": [
      "Applying baseline correction (mode: mean)\n",
      "Reading /media/tyler/PathstoneProject/PathstoneYAC/derivatives/segmented/yac_1024_pylqcr_eeg.fif ...\n",
      "    Found the data of interest:\n",
      "        t =    -100.00 ...     650.00 ms\n",
      "        0 CTF compensation matrices available\n",
      "Not setting metadata\n",
      "307 matching events found\n",
      "No baseline correction applied\n",
      "0 projection items activated\n",
      "Applying baseline correction (mode: mean)\n",
      "Applying baseline correction (mode: mean)\n",
      "Applying baseline correction (mode: mean)\n",
      "Applying baseline correction (mode: mean)\n",
      "Reading /media/tyler/PathstoneProject/PathstoneYAC/derivatives/segmented/yac_1025_pylqcr_eeg.fif ...\n"
     ]
    },
    {
     "name": "stderr",
     "output_type": "stream",
     "text": [
      "/tmp/ipykernel_65174/728820736.py:6: RuntimeWarning: This filename (derivatives/segmented/yac_1024_pylqcr_eeg.fif) does not conform to MNE naming conventions. All epochs files should end with -epo.fif, -epo.fif.gz, _epo.fif or _epo.fif.gz\n",
      "  new_epoch = mne.read_epochs(sub)\n",
      "/tmp/ipykernel_65174/728820736.py:6: RuntimeWarning: This filename (derivatives/segmented/yac_1025_pylqcr_eeg.fif) does not conform to MNE naming conventions. All epochs files should end with -epo.fif, -epo.fif.gz, _epo.fif or _epo.fif.gz\n",
      "  new_epoch = mne.read_epochs(sub)\n"
     ]
    },
    {
     "name": "stdout",
     "output_type": "stream",
     "text": [
      "    Found the data of interest:\n",
      "        t =    -100.00 ...     650.00 ms\n",
      "        0 CTF compensation matrices available\n",
      "Not setting metadata\n",
      "334 matching events found\n",
      "No baseline correction applied\n",
      "0 projection items activated\n",
      "Applying baseline correction (mode: mean)\n",
      "Applying baseline correction (mode: mean)\n",
      "Applying baseline correction (mode: mean)\n",
      "Applying baseline correction (mode: mean)\n",
      "Reading /media/tyler/PathstoneProject/PathstoneYAC/derivatives/segmented/yac_1026_pylqcr_eeg.fif ...\n",
      "    Found the data of interest:\n",
      "        t =    -100.00 ...     650.00 ms\n",
      "        0 CTF compensation matrices available\n",
      "Not setting metadata\n",
      "322 matching events found\n",
      "No baseline correction applied\n",
      "0 projection items activated\n",
      "Applying baseline correction (mode: mean)\n",
      "Applying baseline correction (mode: mean)\n",
      "Applying baseline correction (mode: mean)\n"
     ]
    },
    {
     "name": "stderr",
     "output_type": "stream",
     "text": [
      "/tmp/ipykernel_65174/728820736.py:6: RuntimeWarning: This filename (derivatives/segmented/yac_1026_pylqcr_eeg.fif) does not conform to MNE naming conventions. All epochs files should end with -epo.fif, -epo.fif.gz, _epo.fif or _epo.fif.gz\n",
      "  new_epoch = mne.read_epochs(sub)\n"
     ]
    },
    {
     "name": "stdout",
     "output_type": "stream",
     "text": [
      "Applying baseline correction (mode: mean)\n",
      "Reading /media/tyler/PathstoneProject/PathstoneYAC/derivatives/segmented/yac_1028_pylqcr_eeg.fif ...\n",
      "    Found the data of interest:\n",
      "        t =    -100.00 ...     650.00 ms\n",
      "        0 CTF compensation matrices available\n",
      "Not setting metadata\n",
      "315 matching events found\n",
      "No baseline correction applied\n",
      "0 projection items activated\n",
      "Applying baseline correction (mode: mean)\n",
      "Applying baseline correction (mode: mean)\n",
      "Applying baseline correction (mode: mean)\n"
     ]
    },
    {
     "name": "stderr",
     "output_type": "stream",
     "text": [
      "/tmp/ipykernel_65174/728820736.py:6: RuntimeWarning: This filename (derivatives/segmented/yac_1028_pylqcr_eeg.fif) does not conform to MNE naming conventions. All epochs files should end with -epo.fif, -epo.fif.gz, _epo.fif or _epo.fif.gz\n",
      "  new_epoch = mne.read_epochs(sub)\n"
     ]
    },
    {
     "name": "stdout",
     "output_type": "stream",
     "text": [
      "Applying baseline correction (mode: mean)\n",
      "Reading /media/tyler/PathstoneProject/PathstoneYAC/derivatives/segmented/yac_1029_pylqcr_eeg.fif ...\n",
      "    Found the data of interest:\n",
      "        t =    -100.00 ...     650.00 ms\n",
      "        0 CTF compensation matrices available\n",
      "Not setting metadata\n",
      "332 matching events found\n",
      "No baseline correction applied\n",
      "0 projection items activated\n",
      "Applying baseline correction (mode: mean)\n",
      "Applying baseline correction (mode: mean)\n",
      "Applying baseline correction (mode: mean)\n"
     ]
    },
    {
     "name": "stderr",
     "output_type": "stream",
     "text": [
      "/tmp/ipykernel_65174/728820736.py:6: RuntimeWarning: This filename (derivatives/segmented/yac_1029_pylqcr_eeg.fif) does not conform to MNE naming conventions. All epochs files should end with -epo.fif, -epo.fif.gz, _epo.fif or _epo.fif.gz\n",
      "  new_epoch = mne.read_epochs(sub)\n"
     ]
    },
    {
     "name": "stdout",
     "output_type": "stream",
     "text": [
      "Applying baseline correction (mode: mean)\n",
      "Reading /media/tyler/PathstoneProject/PathstoneYAC/derivatives/segmented/yac_1030_pylqcr_eeg.fif ...\n",
      "    Found the data of interest:\n",
      "        t =    -100.00 ...     650.00 ms\n",
      "        0 CTF compensation matrices available\n",
      "Not setting metadata\n",
      "334 matching events found\n",
      "No baseline correction applied\n",
      "0 projection items activated\n",
      "Applying baseline correction (mode: mean)\n",
      "Applying baseline correction (mode: mean)\n",
      "Applying baseline correction (mode: mean)\n"
     ]
    },
    {
     "name": "stderr",
     "output_type": "stream",
     "text": [
      "/tmp/ipykernel_65174/728820736.py:6: RuntimeWarning: This filename (derivatives/segmented/yac_1030_pylqcr_eeg.fif) does not conform to MNE naming conventions. All epochs files should end with -epo.fif, -epo.fif.gz, _epo.fif or _epo.fif.gz\n",
      "  new_epoch = mne.read_epochs(sub)\n"
     ]
    },
    {
     "name": "stdout",
     "output_type": "stream",
     "text": [
      "Applying baseline correction (mode: mean)\n",
      "Reading /media/tyler/PathstoneProject/PathstoneYAC/derivatives/segmented/yac_1031_pylqcr_eeg.fif ...\n",
      "    Found the data of interest:\n",
      "        t =    -100.00 ...     650.00 ms\n",
      "        0 CTF compensation matrices available\n",
      "Not setting metadata\n",
      "323 matching events found\n",
      "No baseline correction applied\n",
      "0 projection items activated\n",
      "Applying baseline correction (mode: mean)\n",
      "Applying baseline correction (mode: mean)\n"
     ]
    },
    {
     "name": "stderr",
     "output_type": "stream",
     "text": [
      "/tmp/ipykernel_65174/728820736.py:6: RuntimeWarning: This filename (derivatives/segmented/yac_1031_pylqcr_eeg.fif) does not conform to MNE naming conventions. All epochs files should end with -epo.fif, -epo.fif.gz, _epo.fif or _epo.fif.gz\n",
      "  new_epoch = mne.read_epochs(sub)\n"
     ]
    },
    {
     "name": "stdout",
     "output_type": "stream",
     "text": [
      "Applying baseline correction (mode: mean)\n",
      "Applying baseline correction (mode: mean)\n",
      "Reading /media/tyler/PathstoneProject/PathstoneYAC/derivatives/segmented/yac_1033_pylqcr_eeg.fif ...\n",
      "    Found the data of interest:\n",
      "        t =    -100.00 ...     650.00 ms\n",
      "        0 CTF compensation matrices available\n",
      "Not setting metadata\n",
      "328 matching events found\n",
      "No baseline correction applied\n",
      "0 projection items activated\n",
      "Applying baseline correction (mode: mean)\n",
      "Applying baseline correction (mode: mean)\n",
      "Applying baseline correction (mode: mean)\n"
     ]
    },
    {
     "name": "stderr",
     "output_type": "stream",
     "text": [
      "/tmp/ipykernel_65174/728820736.py:6: RuntimeWarning: This filename (derivatives/segmented/yac_1033_pylqcr_eeg.fif) does not conform to MNE naming conventions. All epochs files should end with -epo.fif, -epo.fif.gz, _epo.fif or _epo.fif.gz\n",
      "  new_epoch = mne.read_epochs(sub)\n"
     ]
    },
    {
     "name": "stdout",
     "output_type": "stream",
     "text": [
      "Applying baseline correction (mode: mean)\n",
      "Reading /media/tyler/PathstoneProject/PathstoneYAC/derivatives/segmented/yac_1034_pylqcr_eeg.fif ...\n",
      "    Found the data of interest:\n",
      "        t =    -100.00 ...     650.00 ms\n",
      "        0 CTF compensation matrices available\n",
      "Not setting metadata\n",
      "301 matching events found\n",
      "No baseline correction applied\n",
      "0 projection items activated\n",
      "Applying baseline correction (mode: mean)\n",
      "Applying baseline correction (mode: mean)\n",
      "Applying baseline correction (mode: mean)\n"
     ]
    },
    {
     "name": "stderr",
     "output_type": "stream",
     "text": [
      "/tmp/ipykernel_65174/728820736.py:6: RuntimeWarning: This filename (derivatives/segmented/yac_1034_pylqcr_eeg.fif) does not conform to MNE naming conventions. All epochs files should end with -epo.fif, -epo.fif.gz, _epo.fif or _epo.fif.gz\n",
      "  new_epoch = mne.read_epochs(sub)\n"
     ]
    },
    {
     "name": "stdout",
     "output_type": "stream",
     "text": [
      "Applying baseline correction (mode: mean)\n",
      "Reading /media/tyler/PathstoneProject/PathstoneYAC/derivatives/segmented/yac_1035_pylqcr_eeg.fif ...\n",
      "    Found the data of interest:\n",
      "        t =    -100.00 ...     650.00 ms\n",
      "        0 CTF compensation matrices available\n",
      "Not setting metadata\n",
      "327 matching events found\n",
      "No baseline correction applied\n",
      "0 projection items activated\n",
      "Applying baseline correction (mode: mean)\n",
      "Applying baseline correction (mode: mean)\n",
      "Applying baseline correction (mode: mean)\n"
     ]
    },
    {
     "name": "stderr",
     "output_type": "stream",
     "text": [
      "/tmp/ipykernel_65174/728820736.py:6: RuntimeWarning: This filename (derivatives/segmented/yac_1035_pylqcr_eeg.fif) does not conform to MNE naming conventions. All epochs files should end with -epo.fif, -epo.fif.gz, _epo.fif or _epo.fif.gz\n",
      "  new_epoch = mne.read_epochs(sub)\n"
     ]
    },
    {
     "name": "stdout",
     "output_type": "stream",
     "text": [
      "Applying baseline correction (mode: mean)\n",
      "Reading /media/tyler/PathstoneProject/PathstoneYAC/derivatives/segmented/yac_1036_pylqcr_eeg.fif ...\n",
      "    Found the data of interest:\n",
      "        t =    -100.00 ...     650.00 ms\n",
      "        0 CTF compensation matrices available\n",
      "Not setting metadata\n",
      "327 matching events found\n",
      "No baseline correction applied\n",
      "0 projection items activated\n",
      "Applying baseline correction (mode: mean)\n",
      "Applying baseline correction (mode: mean)\n",
      "Applying baseline correction (mode: mean)\n"
     ]
    },
    {
     "name": "stderr",
     "output_type": "stream",
     "text": [
      "/tmp/ipykernel_65174/728820736.py:6: RuntimeWarning: This filename (derivatives/segmented/yac_1036_pylqcr_eeg.fif) does not conform to MNE naming conventions. All epochs files should end with -epo.fif, -epo.fif.gz, _epo.fif or _epo.fif.gz\n",
      "  new_epoch = mne.read_epochs(sub)\n"
     ]
    },
    {
     "name": "stdout",
     "output_type": "stream",
     "text": [
      "Applying baseline correction (mode: mean)\n",
      "Reading /media/tyler/PathstoneProject/PathstoneYAC/derivatives/segmented/yac_1037_pylqcr_eeg.fif ...\n",
      "    Found the data of interest:\n",
      "        t =    -100.00 ...     650.00 ms\n",
      "        0 CTF compensation matrices available\n",
      "Not setting metadata\n",
      "308 matching events found\n",
      "No baseline correction applied\n",
      "0 projection items activated\n",
      "Applying baseline correction (mode: mean)\n",
      "Applying baseline correction (mode: mean)\n",
      "Applying baseline correction (mode: mean)\n",
      "Applying baseline correction (mode: mean)\n"
     ]
    },
    {
     "name": "stderr",
     "output_type": "stream",
     "text": [
      "/tmp/ipykernel_65174/728820736.py:6: RuntimeWarning: This filename (derivatives/segmented/yac_1037_pylqcr_eeg.fif) does not conform to MNE naming conventions. All epochs files should end with -epo.fif, -epo.fif.gz, _epo.fif or _epo.fif.gz\n",
      "  new_epoch = mne.read_epochs(sub)\n"
     ]
    },
    {
     "name": "stdout",
     "output_type": "stream",
     "text": [
      "Reading /media/tyler/PathstoneProject/PathstoneYAC/derivatives/segmented/yac_1038_pylqcr_eeg.fif ...\n",
      "    Found the data of interest:\n",
      "        t =    -100.00 ...     650.00 ms\n",
      "        0 CTF compensation matrices available\n",
      "Not setting metadata\n",
      "333 matching events found\n",
      "No baseline correction applied\n",
      "0 projection items activated\n",
      "Applying baseline correction (mode: mean)\n",
      "Applying baseline correction (mode: mean)\n",
      "Applying baseline correction (mode: mean)\n",
      "Applying baseline correction (mode: mean)\n"
     ]
    },
    {
     "name": "stderr",
     "output_type": "stream",
     "text": [
      "/tmp/ipykernel_65174/728820736.py:6: RuntimeWarning: This filename (derivatives/segmented/yac_1038_pylqcr_eeg.fif) does not conform to MNE naming conventions. All epochs files should end with -epo.fif, -epo.fif.gz, _epo.fif or _epo.fif.gz\n",
      "  new_epoch = mne.read_epochs(sub)\n"
     ]
    },
    {
     "name": "stdout",
     "output_type": "stream",
     "text": [
      "Reading /media/tyler/PathstoneProject/PathstoneYAC/derivatives/segmented/yac_1039_pylqcr_eeg.fif ...\n",
      "    Found the data of interest:\n",
      "        t =    -100.00 ...     650.00 ms\n",
      "        0 CTF compensation matrices available\n",
      "Not setting metadata\n",
      "303 matching events found\n",
      "No baseline correction applied\n",
      "0 projection items activated\n",
      "Applying baseline correction (mode: mean)\n",
      "Applying baseline correction (mode: mean)\n",
      "Applying baseline correction (mode: mean)\n",
      "Applying baseline correction (mode: mean)\n"
     ]
    },
    {
     "name": "stderr",
     "output_type": "stream",
     "text": [
      "/tmp/ipykernel_65174/728820736.py:6: RuntimeWarning: This filename (derivatives/segmented/yac_1039_pylqcr_eeg.fif) does not conform to MNE naming conventions. All epochs files should end with -epo.fif, -epo.fif.gz, _epo.fif or _epo.fif.gz\n",
      "  new_epoch = mne.read_epochs(sub)\n"
     ]
    },
    {
     "name": "stdout",
     "output_type": "stream",
     "text": [
      "Reading /media/tyler/PathstoneProject/PathstoneYAC/derivatives/segmented/yac_1040_pylqcr_eeg.fif ...\n",
      "    Found the data of interest:\n",
      "        t =    -100.00 ...     650.00 ms\n",
      "        0 CTF compensation matrices available\n",
      "Not setting metadata\n",
      "299 matching events found\n",
      "No baseline correction applied\n",
      "0 projection items activated\n",
      "Applying baseline correction (mode: mean)\n",
      "Applying baseline correction (mode: mean)\n",
      "Applying baseline correction (mode: mean)\n",
      "Applying baseline correction (mode: mean)\n",
      "Reading /media/tyler/PathstoneProject/PathstoneYAC/derivatives/segmented/yac_1041_pylqcr_eeg.fif ...\n"
     ]
    },
    {
     "name": "stderr",
     "output_type": "stream",
     "text": [
      "/tmp/ipykernel_65174/728820736.py:6: RuntimeWarning: This filename (derivatives/segmented/yac_1040_pylqcr_eeg.fif) does not conform to MNE naming conventions. All epochs files should end with -epo.fif, -epo.fif.gz, _epo.fif or _epo.fif.gz\n",
      "  new_epoch = mne.read_epochs(sub)\n",
      "/tmp/ipykernel_65174/728820736.py:6: RuntimeWarning: This filename (derivatives/segmented/yac_1041_pylqcr_eeg.fif) does not conform to MNE naming conventions. All epochs files should end with -epo.fif, -epo.fif.gz, _epo.fif or _epo.fif.gz\n",
      "  new_epoch = mne.read_epochs(sub)\n"
     ]
    },
    {
     "name": "stdout",
     "output_type": "stream",
     "text": [
      "    Found the data of interest:\n",
      "        t =    -100.00 ...     650.00 ms\n",
      "        0 CTF compensation matrices available\n",
      "Not setting metadata\n",
      "333 matching events found\n",
      "No baseline correction applied\n",
      "0 projection items activated\n",
      "Applying baseline correction (mode: mean)\n",
      "Applying baseline correction (mode: mean)\n",
      "Applying baseline correction (mode: mean)\n",
      "Applying baseline correction (mode: mean)\n",
      "Reading /media/tyler/PathstoneProject/PathstoneYAC/derivatives/segmented/yac_1042_pylqcr_eeg.fif ...\n",
      "    Found the data of interest:\n",
      "        t =    -100.00 ...     650.00 ms\n",
      "        0 CTF compensation matrices available\n",
      "Not setting metadata\n",
      "314 matching events found\n",
      "No baseline correction applied\n",
      "0 projection items activated\n",
      "Applying baseline correction (mode: mean)\n",
      "Applying baseline correction (mode: mean)\n",
      "Applying baseline correction (mode: mean)\n"
     ]
    },
    {
     "name": "stderr",
     "output_type": "stream",
     "text": [
      "/tmp/ipykernel_65174/728820736.py:6: RuntimeWarning: This filename (derivatives/segmented/yac_1042_pylqcr_eeg.fif) does not conform to MNE naming conventions. All epochs files should end with -epo.fif, -epo.fif.gz, _epo.fif or _epo.fif.gz\n",
      "  new_epoch = mne.read_epochs(sub)\n"
     ]
    },
    {
     "name": "stdout",
     "output_type": "stream",
     "text": [
      "Applying baseline correction (mode: mean)\n",
      "Reading /media/tyler/PathstoneProject/PathstoneYAC/derivatives/segmented/yac_1043_pylqcr_eeg.fif ...\n",
      "    Found the data of interest:\n",
      "        t =    -100.00 ...     650.00 ms\n",
      "        0 CTF compensation matrices available\n",
      "Not setting metadata\n",
      "319 matching events found\n",
      "No baseline correction applied\n",
      "0 projection items activated\n",
      "Applying baseline correction (mode: mean)\n",
      "Applying baseline correction (mode: mean)\n",
      "Applying baseline correction (mode: mean)\n"
     ]
    },
    {
     "name": "stderr",
     "output_type": "stream",
     "text": [
      "/tmp/ipykernel_65174/728820736.py:6: RuntimeWarning: This filename (derivatives/segmented/yac_1043_pylqcr_eeg.fif) does not conform to MNE naming conventions. All epochs files should end with -epo.fif, -epo.fif.gz, _epo.fif or _epo.fif.gz\n",
      "  new_epoch = mne.read_epochs(sub)\n"
     ]
    },
    {
     "name": "stdout",
     "output_type": "stream",
     "text": [
      "Applying baseline correction (mode: mean)\n",
      "Reading /media/tyler/PathstoneProject/PathstoneYAC/derivatives/segmented/yac_1044_pylqcr_eeg.fif ...\n",
      "    Found the data of interest:\n",
      "        t =    -100.00 ...     650.00 ms\n",
      "        0 CTF compensation matrices available\n",
      "Not setting metadata\n",
      "326 matching events found\n",
      "No baseline correction applied\n",
      "0 projection items activated\n",
      "Applying baseline correction (mode: mean)\n",
      "Applying baseline correction (mode: mean)\n",
      "Applying baseline correction (mode: mean)\n"
     ]
    },
    {
     "name": "stderr",
     "output_type": "stream",
     "text": [
      "/tmp/ipykernel_65174/728820736.py:6: RuntimeWarning: This filename (derivatives/segmented/yac_1044_pylqcr_eeg.fif) does not conform to MNE naming conventions. All epochs files should end with -epo.fif, -epo.fif.gz, _epo.fif or _epo.fif.gz\n",
      "  new_epoch = mne.read_epochs(sub)\n"
     ]
    },
    {
     "name": "stdout",
     "output_type": "stream",
     "text": [
      "Applying baseline correction (mode: mean)\n",
      "Reading /media/tyler/PathstoneProject/PathstoneYAC/derivatives/segmented/yac_1045_pylqcr_eeg.fif ...\n",
      "    Found the data of interest:\n",
      "        t =    -100.00 ...     650.00 ms\n",
      "        0 CTF compensation matrices available\n",
      "Not setting metadata\n",
      "330 matching events found\n",
      "No baseline correction applied\n",
      "0 projection items activated\n",
      "Applying baseline correction (mode: mean)\n",
      "Applying baseline correction (mode: mean)\n",
      "Applying baseline correction (mode: mean)\n",
      "Applying baseline correction (mode: mean)\n"
     ]
    },
    {
     "name": "stderr",
     "output_type": "stream",
     "text": [
      "/tmp/ipykernel_65174/728820736.py:6: RuntimeWarning: This filename (derivatives/segmented/yac_1045_pylqcr_eeg.fif) does not conform to MNE naming conventions. All epochs files should end with -epo.fif, -epo.fif.gz, _epo.fif or _epo.fif.gz\n",
      "  new_epoch = mne.read_epochs(sub)\n"
     ]
    },
    {
     "name": "stdout",
     "output_type": "stream",
     "text": [
      "Reading /media/tyler/PathstoneProject/PathstoneYAC/derivatives/segmented/yac_1046_pylqcr_eeg.fif ...\n",
      "    Found the data of interest:\n",
      "        t =    -100.00 ...     650.00 ms\n",
      "        0 CTF compensation matrices available\n",
      "Not setting metadata\n",
      "312 matching events found\n",
      "No baseline correction applied\n",
      "0 projection items activated\n",
      "Applying baseline correction (mode: mean)\n",
      "Applying baseline correction (mode: mean)\n",
      "Applying baseline correction (mode: mean)\n",
      "Applying baseline correction (mode: mean)\n"
     ]
    },
    {
     "name": "stderr",
     "output_type": "stream",
     "text": [
      "/tmp/ipykernel_65174/728820736.py:6: RuntimeWarning: This filename (derivatives/segmented/yac_1046_pylqcr_eeg.fif) does not conform to MNE naming conventions. All epochs files should end with -epo.fif, -epo.fif.gz, _epo.fif or _epo.fif.gz\n",
      "  new_epoch = mne.read_epochs(sub)\n"
     ]
    },
    {
     "name": "stdout",
     "output_type": "stream",
     "text": [
      "Reading /media/tyler/PathstoneProject/PathstoneYAC/derivatives/segmented/yac_1047_pylqcr_eeg.fif ...\n",
      "    Found the data of interest:\n",
      "        t =    -100.00 ...     650.00 ms\n",
      "        0 CTF compensation matrices available\n",
      "Not setting metadata\n",
      "328 matching events found\n",
      "No baseline correction applied\n",
      "0 projection items activated\n",
      "Applying baseline correction (mode: mean)\n",
      "Applying baseline correction (mode: mean)\n",
      "Applying baseline correction (mode: mean)\n",
      "Applying baseline correction (mode: mean)\n"
     ]
    },
    {
     "name": "stderr",
     "output_type": "stream",
     "text": [
      "/tmp/ipykernel_65174/728820736.py:6: RuntimeWarning: This filename (derivatives/segmented/yac_1047_pylqcr_eeg.fif) does not conform to MNE naming conventions. All epochs files should end with -epo.fif, -epo.fif.gz, _epo.fif or _epo.fif.gz\n",
      "  new_epoch = mne.read_epochs(sub)\n"
     ]
    },
    {
     "name": "stdout",
     "output_type": "stream",
     "text": [
      "Reading /media/tyler/PathstoneProject/PathstoneYAC/derivatives/segmented/yac_1048_pylqcr_eeg.fif ...\n",
      "    Found the data of interest:\n",
      "        t =    -100.00 ...     650.00 ms\n",
      "        0 CTF compensation matrices available\n",
      "Not setting metadata\n",
      "328 matching events found\n",
      "No baseline correction applied\n",
      "0 projection items activated\n",
      "Applying baseline correction (mode: mean)\n",
      "Applying baseline correction (mode: mean)\n",
      "Applying baseline correction (mode: mean)\n"
     ]
    },
    {
     "name": "stderr",
     "output_type": "stream",
     "text": [
      "/tmp/ipykernel_65174/728820736.py:6: RuntimeWarning: This filename (derivatives/segmented/yac_1048_pylqcr_eeg.fif) does not conform to MNE naming conventions. All epochs files should end with -epo.fif, -epo.fif.gz, _epo.fif or _epo.fif.gz\n",
      "  new_epoch = mne.read_epochs(sub)\n"
     ]
    },
    {
     "name": "stdout",
     "output_type": "stream",
     "text": [
      "Applying baseline correction (mode: mean)\n",
      "Reading /media/tyler/PathstoneProject/PathstoneYAC/derivatives/segmented/yac_1049_pylqcr_eeg.fif ...\n",
      "    Found the data of interest:\n",
      "        t =    -100.00 ...     650.00 ms\n",
      "        0 CTF compensation matrices available\n",
      "Not setting metadata\n",
      "315 matching events found\n",
      "No baseline correction applied\n",
      "0 projection items activated\n",
      "Applying baseline correction (mode: mean)\n",
      "Applying baseline correction (mode: mean)\n",
      "Applying baseline correction (mode: mean)\n"
     ]
    },
    {
     "name": "stderr",
     "output_type": "stream",
     "text": [
      "/tmp/ipykernel_65174/728820736.py:6: RuntimeWarning: This filename (derivatives/segmented/yac_1049_pylqcr_eeg.fif) does not conform to MNE naming conventions. All epochs files should end with -epo.fif, -epo.fif.gz, _epo.fif or _epo.fif.gz\n",
      "  new_epoch = mne.read_epochs(sub)\n"
     ]
    },
    {
     "name": "stdout",
     "output_type": "stream",
     "text": [
      "Applying baseline correction (mode: mean)\n",
      "Reading /media/tyler/PathstoneProject/PathstoneYAC/derivatives/segmented/yac_1050_pylqcr_eeg.fif ...\n",
      "    Found the data of interest:\n",
      "        t =    -100.00 ...     650.00 ms\n",
      "        0 CTF compensation matrices available\n",
      "Not setting metadata\n",
      "331 matching events found\n",
      "No baseline correction applied\n",
      "0 projection items activated\n",
      "Applying baseline correction (mode: mean)\n",
      "Applying baseline correction (mode: mean)\n"
     ]
    },
    {
     "name": "stderr",
     "output_type": "stream",
     "text": [
      "/tmp/ipykernel_65174/728820736.py:6: RuntimeWarning: This filename (derivatives/segmented/yac_1050_pylqcr_eeg.fif) does not conform to MNE naming conventions. All epochs files should end with -epo.fif, -epo.fif.gz, _epo.fif or _epo.fif.gz\n",
      "  new_epoch = mne.read_epochs(sub)\n"
     ]
    },
    {
     "name": "stdout",
     "output_type": "stream",
     "text": [
      "Applying baseline correction (mode: mean)\n",
      "Applying baseline correction (mode: mean)\n",
      "Reading /media/tyler/PathstoneProject/PathstoneYAC/derivatives/segmented/yac_1051_pylqcr_eeg.fif ...\n",
      "    Found the data of interest:\n",
      "        t =    -100.00 ...     650.00 ms\n",
      "        0 CTF compensation matrices available\n",
      "Not setting metadata\n",
      "322 matching events found\n",
      "No baseline correction applied\n",
      "0 projection items activated\n",
      "Applying baseline correction (mode: mean)\n",
      "Applying baseline correction (mode: mean)\n",
      "Applying baseline correction (mode: mean)\n",
      "Applying baseline correction (mode: mean)\n"
     ]
    },
    {
     "name": "stderr",
     "output_type": "stream",
     "text": [
      "/tmp/ipykernel_65174/728820736.py:6: RuntimeWarning: This filename (derivatives/segmented/yac_1051_pylqcr_eeg.fif) does not conform to MNE naming conventions. All epochs files should end with -epo.fif, -epo.fif.gz, _epo.fif or _epo.fif.gz\n",
      "  new_epoch = mne.read_epochs(sub)\n"
     ]
    },
    {
     "name": "stdout",
     "output_type": "stream",
     "text": [
      "Reading /media/tyler/PathstoneProject/PathstoneYAC/derivatives/segmented/yac_1052_pylqcr_eeg.fif ...\n",
      "    Found the data of interest:\n",
      "        t =    -100.00 ...     650.00 ms\n",
      "        0 CTF compensation matrices available\n",
      "Not setting metadata\n",
      "330 matching events found\n",
      "No baseline correction applied\n",
      "0 projection items activated\n",
      "Applying baseline correction (mode: mean)\n",
      "Applying baseline correction (mode: mean)\n",
      "Applying baseline correction (mode: mean)\n"
     ]
    },
    {
     "name": "stderr",
     "output_type": "stream",
     "text": [
      "/tmp/ipykernel_65174/728820736.py:6: RuntimeWarning: This filename (derivatives/segmented/yac_1052_pylqcr_eeg.fif) does not conform to MNE naming conventions. All epochs files should end with -epo.fif, -epo.fif.gz, _epo.fif or _epo.fif.gz\n",
      "  new_epoch = mne.read_epochs(sub)\n"
     ]
    },
    {
     "name": "stdout",
     "output_type": "stream",
     "text": [
      "Applying baseline correction (mode: mean)\n",
      "Reading /media/tyler/PathstoneProject/PathstoneYAC/derivatives/segmented/yac_1053_pylqcr_eeg.fif ...\n",
      "    Found the data of interest:\n",
      "        t =    -100.00 ...     650.00 ms\n",
      "        0 CTF compensation matrices available\n",
      "Not setting metadata\n",
      "334 matching events found\n",
      "No baseline correction applied\n",
      "0 projection items activated\n",
      "Applying baseline correction (mode: mean)\n",
      "Applying baseline correction (mode: mean)\n",
      "Applying baseline correction (mode: mean)\n",
      "Applying baseline correction (mode: mean)\n"
     ]
    },
    {
     "name": "stderr",
     "output_type": "stream",
     "text": [
      "/tmp/ipykernel_65174/728820736.py:6: RuntimeWarning: This filename (derivatives/segmented/yac_1053_pylqcr_eeg.fif) does not conform to MNE naming conventions. All epochs files should end with -epo.fif, -epo.fif.gz, _epo.fif or _epo.fif.gz\n",
      "  new_epoch = mne.read_epochs(sub)\n"
     ]
    },
    {
     "name": "stdout",
     "output_type": "stream",
     "text": [
      "Reading /media/tyler/PathstoneProject/PathstoneYAC/derivatives/segmented/yac_1054_pylqcr_eeg.fif ...\n",
      "    Found the data of interest:\n",
      "        t =    -100.00 ...     650.00 ms\n",
      "        0 CTF compensation matrices available\n",
      "Not setting metadata\n",
      "333 matching events found\n",
      "No baseline correction applied\n",
      "0 projection items activated\n",
      "Applying baseline correction (mode: mean)\n",
      "Applying baseline correction (mode: mean)\n",
      "Applying baseline correction (mode: mean)\n"
     ]
    },
    {
     "name": "stderr",
     "output_type": "stream",
     "text": [
      "/tmp/ipykernel_65174/728820736.py:6: RuntimeWarning: This filename (derivatives/segmented/yac_1054_pylqcr_eeg.fif) does not conform to MNE naming conventions. All epochs files should end with -epo.fif, -epo.fif.gz, _epo.fif or _epo.fif.gz\n",
      "  new_epoch = mne.read_epochs(sub)\n"
     ]
    },
    {
     "name": "stdout",
     "output_type": "stream",
     "text": [
      "Applying baseline correction (mode: mean)\n",
      "Reading /media/tyler/PathstoneProject/PathstoneYAC/derivatives/segmented/yac_1055_pylqcr_eeg.fif ...\n",
      "    Found the data of interest:\n",
      "        t =    -100.00 ...     650.00 ms\n",
      "        0 CTF compensation matrices available\n",
      "Not setting metadata\n",
      "325 matching events found\n",
      "No baseline correction applied\n",
      "0 projection items activated\n",
      "Applying baseline correction (mode: mean)\n",
      "Applying baseline correction (mode: mean)\n",
      "Applying baseline correction (mode: mean)\n",
      "Applying baseline correction (mode: mean)\n"
     ]
    },
    {
     "name": "stderr",
     "output_type": "stream",
     "text": [
      "/tmp/ipykernel_65174/728820736.py:6: RuntimeWarning: This filename (derivatives/segmented/yac_1055_pylqcr_eeg.fif) does not conform to MNE naming conventions. All epochs files should end with -epo.fif, -epo.fif.gz, _epo.fif or _epo.fif.gz\n",
      "  new_epoch = mne.read_epochs(sub)\n"
     ]
    },
    {
     "name": "stdout",
     "output_type": "stream",
     "text": [
      "Reading /media/tyler/PathstoneProject/PathstoneYAC/derivatives/segmented/yac_1056_pylqcr_eeg.fif ...\n",
      "    Found the data of interest:\n",
      "        t =    -100.00 ...     650.00 ms\n",
      "        0 CTF compensation matrices available\n",
      "Not setting metadata\n",
      "332 matching events found\n",
      "No baseline correction applied\n",
      "0 projection items activated\n",
      "Applying baseline correction (mode: mean)\n",
      "Applying baseline correction (mode: mean)\n",
      "Applying baseline correction (mode: mean)\n",
      "Applying baseline correction (mode: mean)\n"
     ]
    },
    {
     "name": "stderr",
     "output_type": "stream",
     "text": [
      "/tmp/ipykernel_65174/728820736.py:6: RuntimeWarning: This filename (derivatives/segmented/yac_1056_pylqcr_eeg.fif) does not conform to MNE naming conventions. All epochs files should end with -epo.fif, -epo.fif.gz, _epo.fif or _epo.fif.gz\n",
      "  new_epoch = mne.read_epochs(sub)\n"
     ]
    },
    {
     "name": "stdout",
     "output_type": "stream",
     "text": [
      "Reading /media/tyler/PathstoneProject/PathstoneYAC/derivatives/segmented/yac_1057_pylqcr_eeg.fif ...\n",
      "    Found the data of interest:\n",
      "        t =    -100.00 ...     650.00 ms\n",
      "        0 CTF compensation matrices available\n",
      "Not setting metadata\n",
      "305 matching events found\n",
      "No baseline correction applied\n",
      "0 projection items activated\n",
      "Applying baseline correction (mode: mean)\n",
      "Applying baseline correction (mode: mean)\n",
      "Applying baseline correction (mode: mean)\n",
      "Applying baseline correction (mode: mean)\n"
     ]
    },
    {
     "name": "stderr",
     "output_type": "stream",
     "text": [
      "/tmp/ipykernel_65174/728820736.py:6: RuntimeWarning: This filename (derivatives/segmented/yac_1057_pylqcr_eeg.fif) does not conform to MNE naming conventions. All epochs files should end with -epo.fif, -epo.fif.gz, _epo.fif or _epo.fif.gz\n",
      "  new_epoch = mne.read_epochs(sub)\n",
      "/tmp/ipykernel_65174/728820736.py:6: RuntimeWarning: This filename (derivatives/segmented/yac_1058_pylqcr_eeg.fif) does not conform to MNE naming conventions. All epochs files should end with -epo.fif, -epo.fif.gz, _epo.fif or _epo.fif.gz\n",
      "  new_epoch = mne.read_epochs(sub)\n"
     ]
    },
    {
     "name": "stdout",
     "output_type": "stream",
     "text": [
      "Reading /media/tyler/PathstoneProject/PathstoneYAC/derivatives/segmented/yac_1058_pylqcr_eeg.fif ...\n",
      "    Found the data of interest:\n",
      "        t =    -100.00 ...     650.00 ms\n",
      "        0 CTF compensation matrices available\n",
      "Not setting metadata\n",
      "274 matching events found\n",
      "No baseline correction applied\n",
      "0 projection items activated\n",
      "Applying baseline correction (mode: mean)\n",
      "Applying baseline correction (mode: mean)\n",
      "Applying baseline correction (mode: mean)\n",
      "Applying baseline correction (mode: mean)\n",
      "Reading /media/tyler/PathstoneProject/PathstoneYAC/derivatives/segmented/yac_1059_pylqcr_eeg.fif ...\n",
      "    Found the data of interest:\n",
      "        t =    -100.00 ...     650.00 ms\n",
      "        0 CTF compensation matrices available\n",
      "Not setting metadata\n",
      "323 matching events found\n",
      "No baseline correction applied\n",
      "0 projection items activated\n",
      "Applying baseline correction (mode: mean)\n",
      "Applying baseline correction (mode: mean)\n",
      "Applying baseline correction (mode: mean)\n"
     ]
    },
    {
     "name": "stderr",
     "output_type": "stream",
     "text": [
      "/tmp/ipykernel_65174/728820736.py:6: RuntimeWarning: This filename (derivatives/segmented/yac_1059_pylqcr_eeg.fif) does not conform to MNE naming conventions. All epochs files should end with -epo.fif, -epo.fif.gz, _epo.fif or _epo.fif.gz\n",
      "  new_epoch = mne.read_epochs(sub)\n"
     ]
    },
    {
     "name": "stdout",
     "output_type": "stream",
     "text": [
      "Applying baseline correction (mode: mean)\n",
      "Reading /media/tyler/PathstoneProject/PathstoneYAC/derivatives/segmented/yac_1060_pylqcr_eeg.fif ...\n",
      "    Found the data of interest:\n",
      "        t =    -100.00 ...     650.00 ms\n",
      "        0 CTF compensation matrices available\n",
      "Not setting metadata\n",
      "304 matching events found\n",
      "No baseline correction applied\n",
      "0 projection items activated\n",
      "Applying baseline correction (mode: mean)\n",
      "Applying baseline correction (mode: mean)\n",
      "Applying baseline correction (mode: mean)\n",
      "Applying baseline correction (mode: mean)\n"
     ]
    },
    {
     "name": "stderr",
     "output_type": "stream",
     "text": [
      "/tmp/ipykernel_65174/728820736.py:6: RuntimeWarning: This filename (derivatives/segmented/yac_1060_pylqcr_eeg.fif) does not conform to MNE naming conventions. All epochs files should end with -epo.fif, -epo.fif.gz, _epo.fif or _epo.fif.gz\n",
      "  new_epoch = mne.read_epochs(sub)\n"
     ]
    },
    {
     "name": "stdout",
     "output_type": "stream",
     "text": [
      "Reading /media/tyler/PathstoneProject/PathstoneYAC/derivatives/segmented/yac_1061_pylqcr_eeg.fif ...\n"
     ]
    },
    {
     "name": "stderr",
     "output_type": "stream",
     "text": [
      "/tmp/ipykernel_65174/728820736.py:6: RuntimeWarning: This filename (derivatives/segmented/yac_1061_pylqcr_eeg.fif) does not conform to MNE naming conventions. All epochs files should end with -epo.fif, -epo.fif.gz, _epo.fif or _epo.fif.gz\n",
      "  new_epoch = mne.read_epochs(sub)\n"
     ]
    },
    {
     "name": "stdout",
     "output_type": "stream",
     "text": [
      "    Found the data of interest:\n",
      "        t =    -100.00 ...     650.00 ms\n",
      "        0 CTF compensation matrices available\n",
      "Not setting metadata\n",
      "325 matching events found\n",
      "No baseline correction applied\n",
      "0 projection items activated\n",
      "Applying baseline correction (mode: mean)\n",
      "Applying baseline correction (mode: mean)\n",
      "Applying baseline correction (mode: mean)\n",
      "Applying baseline correction (mode: mean)\n",
      "Reading /media/tyler/PathstoneProject/PathstoneYAC/derivatives/segmented/yac_1062_pylqcr_eeg.fif ...\n",
      "    Found the data of interest:\n",
      "        t =    -100.00 ...     650.00 ms\n",
      "        0 CTF compensation matrices available\n",
      "Not setting metadata\n",
      "325 matching events found\n",
      "No baseline correction applied\n",
      "0 projection items activated\n",
      "Applying baseline correction (mode: mean)\n"
     ]
    },
    {
     "name": "stderr",
     "output_type": "stream",
     "text": [
      "/tmp/ipykernel_65174/728820736.py:6: RuntimeWarning: This filename (derivatives/segmented/yac_1062_pylqcr_eeg.fif) does not conform to MNE naming conventions. All epochs files should end with -epo.fif, -epo.fif.gz, _epo.fif or _epo.fif.gz\n",
      "  new_epoch = mne.read_epochs(sub)\n"
     ]
    },
    {
     "name": "stdout",
     "output_type": "stream",
     "text": [
      "Applying baseline correction (mode: mean)\n",
      "Applying baseline correction (mode: mean)\n",
      "Applying baseline correction (mode: mean)\n",
      "Reading /media/tyler/PathstoneProject/PathstoneYAC/derivatives/segmented/yac_1063_pylqcr_eeg.fif ...\n",
      "    Found the data of interest:\n",
      "        t =    -100.00 ...     650.00 ms\n",
      "        0 CTF compensation matrices available\n",
      "Not setting metadata\n",
      "312 matching events found\n",
      "No baseline correction applied\n",
      "0 projection items activated\n",
      "Applying baseline correction (mode: mean)\n",
      "Applying baseline correction (mode: mean)\n",
      "Applying baseline correction (mode: mean)\n"
     ]
    },
    {
     "name": "stderr",
     "output_type": "stream",
     "text": [
      "/tmp/ipykernel_65174/728820736.py:6: RuntimeWarning: This filename (derivatives/segmented/yac_1063_pylqcr_eeg.fif) does not conform to MNE naming conventions. All epochs files should end with -epo.fif, -epo.fif.gz, _epo.fif or _epo.fif.gz\n",
      "  new_epoch = mne.read_epochs(sub)\n"
     ]
    },
    {
     "name": "stdout",
     "output_type": "stream",
     "text": [
      "Applying baseline correction (mode: mean)\n",
      "Reading /media/tyler/PathstoneProject/PathstoneYAC/derivatives/segmented/yac_1064_pylqcr_eeg.fif ...\n",
      "    Found the data of interest:\n",
      "        t =    -100.00 ...     650.00 ms\n",
      "        0 CTF compensation matrices available\n",
      "Not setting metadata\n",
      "330 matching events found\n",
      "No baseline correction applied\n",
      "0 projection items activated\n",
      "Applying baseline correction (mode: mean)\n",
      "Applying baseline correction (mode: mean)\n",
      "Applying baseline correction (mode: mean)\n"
     ]
    },
    {
     "name": "stderr",
     "output_type": "stream",
     "text": [
      "/tmp/ipykernel_65174/728820736.py:6: RuntimeWarning: This filename (derivatives/segmented/yac_1064_pylqcr_eeg.fif) does not conform to MNE naming conventions. All epochs files should end with -epo.fif, -epo.fif.gz, _epo.fif or _epo.fif.gz\n",
      "  new_epoch = mne.read_epochs(sub)\n"
     ]
    },
    {
     "name": "stdout",
     "output_type": "stream",
     "text": [
      "Applying baseline correction (mode: mean)\n",
      "Reading /media/tyler/PathstoneProject/PathstoneYAC/derivatives/segmented/yac_1065_pylqcr_eeg.fif ...\n",
      "    Found the data of interest:\n",
      "        t =    -100.00 ...     650.00 ms\n",
      "        0 CTF compensation matrices available\n",
      "Not setting metadata\n",
      "327 matching events found\n",
      "No baseline correction applied\n",
      "0 projection items activated\n",
      "Applying baseline correction (mode: mean)\n",
      "Applying baseline correction (mode: mean)\n",
      "Applying baseline correction (mode: mean)\n"
     ]
    },
    {
     "name": "stderr",
     "output_type": "stream",
     "text": [
      "/tmp/ipykernel_65174/728820736.py:6: RuntimeWarning: This filename (derivatives/segmented/yac_1065_pylqcr_eeg.fif) does not conform to MNE naming conventions. All epochs files should end with -epo.fif, -epo.fif.gz, _epo.fif or _epo.fif.gz\n",
      "  new_epoch = mne.read_epochs(sub)\n"
     ]
    },
    {
     "name": "stdout",
     "output_type": "stream",
     "text": [
      "Applying baseline correction (mode: mean)\n",
      "Reading /media/tyler/PathstoneProject/PathstoneYAC/derivatives/segmented/yac_1066_pylqcr_eeg.fif ...\n",
      "    Found the data of interest:\n",
      "        t =    -100.00 ...     650.00 ms\n",
      "        0 CTF compensation matrices available\n",
      "Not setting metadata\n",
      "329 matching events found\n",
      "No baseline correction applied\n",
      "0 projection items activated\n",
      "Applying baseline correction (mode: mean)\n",
      "Applying baseline correction (mode: mean)\n",
      "Applying baseline correction (mode: mean)\n"
     ]
    },
    {
     "name": "stderr",
     "output_type": "stream",
     "text": [
      "/tmp/ipykernel_65174/728820736.py:6: RuntimeWarning: This filename (derivatives/segmented/yac_1066_pylqcr_eeg.fif) does not conform to MNE naming conventions. All epochs files should end with -epo.fif, -epo.fif.gz, _epo.fif or _epo.fif.gz\n",
      "  new_epoch = mne.read_epochs(sub)\n"
     ]
    },
    {
     "name": "stdout",
     "output_type": "stream",
     "text": [
      "Applying baseline correction (mode: mean)\n",
      "Reading /media/tyler/PathstoneProject/PathstoneYAC/derivatives/segmented/yac_1069_pylqcr_eeg.fif ...\n",
      "    Found the data of interest:\n",
      "        t =    -100.00 ...     650.00 ms\n",
      "        0 CTF compensation matrices available\n",
      "Not setting metadata\n",
      "334 matching events found\n",
      "No baseline correction applied\n",
      "0 projection items activated\n",
      "Applying baseline correction (mode: mean)\n",
      "Applying baseline correction (mode: mean)\n",
      "Applying baseline correction (mode: mean)\n"
     ]
    },
    {
     "name": "stderr",
     "output_type": "stream",
     "text": [
      "/tmp/ipykernel_65174/728820736.py:6: RuntimeWarning: This filename (derivatives/segmented/yac_1069_pylqcr_eeg.fif) does not conform to MNE naming conventions. All epochs files should end with -epo.fif, -epo.fif.gz, _epo.fif or _epo.fif.gz\n",
      "  new_epoch = mne.read_epochs(sub)\n"
     ]
    },
    {
     "name": "stdout",
     "output_type": "stream",
     "text": [
      "Applying baseline correction (mode: mean)\n",
      "Reading /media/tyler/PathstoneProject/PathstoneYAC/derivatives/segmented/yac_1070_pylqcr_eeg.fif ...\n",
      "    Found the data of interest:\n",
      "        t =    -100.00 ...     650.00 ms\n",
      "        0 CTF compensation matrices available\n",
      "Not setting metadata\n",
      "309 matching events found\n",
      "No baseline correction applied\n",
      "0 projection items activated\n",
      "Applying baseline correction (mode: mean)\n",
      "Applying baseline correction (mode: mean)\n"
     ]
    },
    {
     "name": "stderr",
     "output_type": "stream",
     "text": [
      "/tmp/ipykernel_65174/728820736.py:6: RuntimeWarning: This filename (derivatives/segmented/yac_1070_pylqcr_eeg.fif) does not conform to MNE naming conventions. All epochs files should end with -epo.fif, -epo.fif.gz, _epo.fif or _epo.fif.gz\n",
      "  new_epoch = mne.read_epochs(sub)\n"
     ]
    },
    {
     "name": "stdout",
     "output_type": "stream",
     "text": [
      "Applying baseline correction (mode: mean)\n",
      "Applying baseline correction (mode: mean)\n",
      "Reading /media/tyler/PathstoneProject/PathstoneYAC/derivatives/segmented/yac_1071_pylqcr_eeg.fif ...\n",
      "    Found the data of interest:\n",
      "        t =    -100.00 ...     650.00 ms\n",
      "        0 CTF compensation matrices available\n",
      "Not setting metadata\n",
      "334 matching events found\n",
      "No baseline correction applied\n",
      "0 projection items activated\n",
      "Applying baseline correction (mode: mean)\n",
      "Applying baseline correction (mode: mean)\n",
      "Applying baseline correction (mode: mean)\n"
     ]
    },
    {
     "name": "stderr",
     "output_type": "stream",
     "text": [
      "/tmp/ipykernel_65174/728820736.py:6: RuntimeWarning: This filename (derivatives/segmented/yac_1071_pylqcr_eeg.fif) does not conform to MNE naming conventions. All epochs files should end with -epo.fif, -epo.fif.gz, _epo.fif or _epo.fif.gz\n",
      "  new_epoch = mne.read_epochs(sub)\n"
     ]
    },
    {
     "name": "stdout",
     "output_type": "stream",
     "text": [
      "Applying baseline correction (mode: mean)\n",
      "Reading /media/tyler/PathstoneProject/PathstoneYAC/derivatives/segmented/yac_1072_pylqcr_eeg.fif ...\n",
      "    Found the data of interest:\n",
      "        t =    -100.00 ...     650.00 ms\n",
      "        0 CTF compensation matrices available\n",
      "Not setting metadata\n",
      "333 matching events found\n",
      "No baseline correction applied\n",
      "0 projection items activated\n",
      "Applying baseline correction (mode: mean)\n",
      "Applying baseline correction (mode: mean)\n",
      "Applying baseline correction (mode: mean)\n",
      "Applying baseline correction (mode: mean)\n"
     ]
    },
    {
     "name": "stderr",
     "output_type": "stream",
     "text": [
      "/tmp/ipykernel_65174/728820736.py:6: RuntimeWarning: This filename (derivatives/segmented/yac_1072_pylqcr_eeg.fif) does not conform to MNE naming conventions. All epochs files should end with -epo.fif, -epo.fif.gz, _epo.fif or _epo.fif.gz\n",
      "  new_epoch = mne.read_epochs(sub)\n"
     ]
    },
    {
     "name": "stdout",
     "output_type": "stream",
     "text": [
      "Reading /media/tyler/PathstoneProject/PathstoneYAC/derivatives/segmented/yac_1073_pylqcr_eeg.fif ...\n",
      "    Found the data of interest:\n",
      "        t =    -100.00 ...     650.00 ms\n",
      "        0 CTF compensation matrices available\n",
      "Not setting metadata\n",
      "332 matching events found\n",
      "No baseline correction applied\n",
      "0 projection items activated\n",
      "Applying baseline correction (mode: mean)\n",
      "Applying baseline correction (mode: mean)\n",
      "Applying baseline correction (mode: mean)\n",
      "Applying baseline correction (mode: mean)\n"
     ]
    },
    {
     "name": "stderr",
     "output_type": "stream",
     "text": [
      "/tmp/ipykernel_65174/728820736.py:6: RuntimeWarning: This filename (derivatives/segmented/yac_1073_pylqcr_eeg.fif) does not conform to MNE naming conventions. All epochs files should end with -epo.fif, -epo.fif.gz, _epo.fif or _epo.fif.gz\n",
      "  new_epoch = mne.read_epochs(sub)\n"
     ]
    },
    {
     "name": "stdout",
     "output_type": "stream",
     "text": [
      "Reading /media/tyler/PathstoneProject/PathstoneYAC/derivatives/segmented/yac_1074_pylqcr_eeg.fif ...\n",
      "    Found the data of interest:\n",
      "        t =    -100.00 ...     650.00 ms\n",
      "        0 CTF compensation matrices available\n",
      "Not setting metadata\n",
      "331 matching events found\n",
      "No baseline correction applied\n",
      "0 projection items activated\n",
      "Applying baseline correction (mode: mean)\n",
      "Applying baseline correction (mode: mean)\n",
      "Applying baseline correction (mode: mean)\n"
     ]
    },
    {
     "name": "stderr",
     "output_type": "stream",
     "text": [
      "/tmp/ipykernel_65174/728820736.py:6: RuntimeWarning: This filename (derivatives/segmented/yac_1074_pylqcr_eeg.fif) does not conform to MNE naming conventions. All epochs files should end with -epo.fif, -epo.fif.gz, _epo.fif or _epo.fif.gz\n",
      "  new_epoch = mne.read_epochs(sub)\n"
     ]
    },
    {
     "name": "stdout",
     "output_type": "stream",
     "text": [
      "Applying baseline correction (mode: mean)\n",
      "Reading /media/tyler/PathstoneProject/PathstoneYAC/derivatives/segmented/yac_1075_pylqcr_eeg.fif ...\n",
      "    Found the data of interest:\n",
      "        t =    -100.00 ...     650.00 ms\n",
      "        0 CTF compensation matrices available\n",
      "Not setting metadata\n",
      "327 matching events found\n",
      "No baseline correction applied\n",
      "0 projection items activated\n",
      "Applying baseline correction (mode: mean)\n",
      "Applying baseline correction (mode: mean)\n",
      "Applying baseline correction (mode: mean)\n"
     ]
    },
    {
     "name": "stderr",
     "output_type": "stream",
     "text": [
      "/tmp/ipykernel_65174/728820736.py:6: RuntimeWarning: This filename (derivatives/segmented/yac_1075_pylqcr_eeg.fif) does not conform to MNE naming conventions. All epochs files should end with -epo.fif, -epo.fif.gz, _epo.fif or _epo.fif.gz\n",
      "  new_epoch = mne.read_epochs(sub)\n"
     ]
    },
    {
     "name": "stdout",
     "output_type": "stream",
     "text": [
      "Applying baseline correction (mode: mean)\n",
      "Reading /media/tyler/PathstoneProject/PathstoneYAC/derivatives/segmented/yac_1076_pylqcr_eeg.fif ...\n",
      "    Found the data of interest:\n",
      "        t =    -100.00 ...     650.00 ms\n",
      "        0 CTF compensation matrices available\n",
      "Not setting metadata\n",
      "334 matching events found\n",
      "No baseline correction applied\n",
      "0 projection items activated\n",
      "Applying baseline correction (mode: mean)\n",
      "Applying baseline correction (mode: mean)\n",
      "Applying baseline correction (mode: mean)\n"
     ]
    },
    {
     "name": "stderr",
     "output_type": "stream",
     "text": [
      "/tmp/ipykernel_65174/728820736.py:6: RuntimeWarning: This filename (derivatives/segmented/yac_1076_pylqcr_eeg.fif) does not conform to MNE naming conventions. All epochs files should end with -epo.fif, -epo.fif.gz, _epo.fif or _epo.fif.gz\n",
      "  new_epoch = mne.read_epochs(sub)\n"
     ]
    },
    {
     "name": "stdout",
     "output_type": "stream",
     "text": [
      "Applying baseline correction (mode: mean)\n",
      "Reading /media/tyler/PathstoneProject/PathstoneYAC/derivatives/segmented/yac_1077_pylqcr_eeg.fif ...\n",
      "    Found the data of interest:\n",
      "        t =    -100.00 ...     650.00 ms\n",
      "        0 CTF compensation matrices available\n",
      "Not setting metadata\n",
      "331 matching events found\n",
      "No baseline correction applied\n",
      "0 projection items activated\n",
      "Applying baseline correction (mode: mean)\n",
      "Applying baseline correction (mode: mean)\n",
      "Applying baseline correction (mode: mean)\n"
     ]
    },
    {
     "name": "stderr",
     "output_type": "stream",
     "text": [
      "/tmp/ipykernel_65174/728820736.py:6: RuntimeWarning: This filename (derivatives/segmented/yac_1077_pylqcr_eeg.fif) does not conform to MNE naming conventions. All epochs files should end with -epo.fif, -epo.fif.gz, _epo.fif or _epo.fif.gz\n",
      "  new_epoch = mne.read_epochs(sub)\n"
     ]
    },
    {
     "name": "stdout",
     "output_type": "stream",
     "text": [
      "Applying baseline correction (mode: mean)\n",
      "Reading /media/tyler/PathstoneProject/PathstoneYAC/derivatives/segmented/yac_1078_pylqcr_eeg.fif ...\n",
      "    Found the data of interest:\n",
      "        t =    -100.00 ...     650.00 ms\n",
      "        0 CTF compensation matrices available\n",
      "Not setting metadata\n",
      "328 matching events found\n",
      "No baseline correction applied\n",
      "0 projection items activated\n",
      "Applying baseline correction (mode: mean)\n",
      "Applying baseline correction (mode: mean)\n",
      "Applying baseline correction (mode: mean)\n"
     ]
    },
    {
     "name": "stderr",
     "output_type": "stream",
     "text": [
      "/tmp/ipykernel_65174/728820736.py:6: RuntimeWarning: This filename (derivatives/segmented/yac_1078_pylqcr_eeg.fif) does not conform to MNE naming conventions. All epochs files should end with -epo.fif, -epo.fif.gz, _epo.fif or _epo.fif.gz\n",
      "  new_epoch = mne.read_epochs(sub)\n"
     ]
    },
    {
     "name": "stdout",
     "output_type": "stream",
     "text": [
      "Applying baseline correction (mode: mean)\n",
      "Reading /media/tyler/PathstoneProject/PathstoneYAC/derivatives/segmented/yac_1079_pylqcr_eeg.fif ...\n",
      "    Found the data of interest:\n",
      "        t =    -100.00 ...     650.00 ms\n",
      "        0 CTF compensation matrices available\n",
      "Not setting metadata\n",
      "324 matching events found\n",
      "No baseline correction applied\n",
      "0 projection items activated\n",
      "Applying baseline correction (mode: mean)\n",
      "Applying baseline correction (mode: mean)\n",
      "Applying baseline correction (mode: mean)\n"
     ]
    },
    {
     "name": "stderr",
     "output_type": "stream",
     "text": [
      "/tmp/ipykernel_65174/728820736.py:6: RuntimeWarning: This filename (derivatives/segmented/yac_1079_pylqcr_eeg.fif) does not conform to MNE naming conventions. All epochs files should end with -epo.fif, -epo.fif.gz, _epo.fif or _epo.fif.gz\n",
      "  new_epoch = mne.read_epochs(sub)\n"
     ]
    },
    {
     "name": "stdout",
     "output_type": "stream",
     "text": [
      "Applying baseline correction (mode: mean)\n",
      "Reading /media/tyler/PathstoneProject/PathstoneYAC/derivatives/segmented/yac_1080_pylqcr_eeg.fif ...\n",
      "    Found the data of interest:\n",
      "        t =    -100.00 ...     650.00 ms\n",
      "        0 CTF compensation matrices available\n",
      "Not setting metadata\n",
      "328 matching events found\n",
      "No baseline correction applied\n",
      "0 projection items activated\n",
      "Applying baseline correction (mode: mean)\n",
      "Applying baseline correction (mode: mean)\n",
      "Applying baseline correction (mode: mean)\n",
      "Applying baseline correction (mode: mean)\n"
     ]
    },
    {
     "name": "stderr",
     "output_type": "stream",
     "text": [
      "/tmp/ipykernel_65174/728820736.py:6: RuntimeWarning: This filename (derivatives/segmented/yac_1080_pylqcr_eeg.fif) does not conform to MNE naming conventions. All epochs files should end with -epo.fif, -epo.fif.gz, _epo.fif or _epo.fif.gz\n",
      "  new_epoch = mne.read_epochs(sub)\n"
     ]
    },
    {
     "name": "stdout",
     "output_type": "stream",
     "text": [
      "Reading /media/tyler/PathstoneProject/PathstoneYAC/derivatives/segmented/yac_1081_pylqcr_eeg.fif ...\n",
      "    Found the data of interest:\n",
      "        t =    -100.00 ...     650.00 ms\n",
      "        0 CTF compensation matrices available\n",
      "Not setting metadata\n",
      "333 matching events found\n",
      "No baseline correction applied\n",
      "0 projection items activated\n",
      "Applying baseline correction (mode: mean)\n",
      "Applying baseline correction (mode: mean)\n",
      "Applying baseline correction (mode: mean)\n"
     ]
    },
    {
     "name": "stderr",
     "output_type": "stream",
     "text": [
      "/tmp/ipykernel_65174/728820736.py:6: RuntimeWarning: This filename (derivatives/segmented/yac_1081_pylqcr_eeg.fif) does not conform to MNE naming conventions. All epochs files should end with -epo.fif, -epo.fif.gz, _epo.fif or _epo.fif.gz\n",
      "  new_epoch = mne.read_epochs(sub)\n"
     ]
    },
    {
     "name": "stdout",
     "output_type": "stream",
     "text": [
      "Applying baseline correction (mode: mean)\n",
      "Reading /media/tyler/PathstoneProject/PathstoneYAC/derivatives/segmented/yac_1082_pylqcr_eeg.fif ...\n",
      "    Found the data of interest:\n",
      "        t =    -100.00 ...     650.00 ms\n",
      "        0 CTF compensation matrices available\n",
      "Not setting metadata\n",
      "332 matching events found\n",
      "No baseline correction applied\n",
      "0 projection items activated\n",
      "Applying baseline correction (mode: mean)\n",
      "Applying baseline correction (mode: mean)\n",
      "Applying baseline correction (mode: mean)\n"
     ]
    },
    {
     "name": "stderr",
     "output_type": "stream",
     "text": [
      "/tmp/ipykernel_65174/728820736.py:6: RuntimeWarning: This filename (derivatives/segmented/yac_1082_pylqcr_eeg.fif) does not conform to MNE naming conventions. All epochs files should end with -epo.fif, -epo.fif.gz, _epo.fif or _epo.fif.gz\n",
      "  new_epoch = mne.read_epochs(sub)\n"
     ]
    },
    {
     "name": "stdout",
     "output_type": "stream",
     "text": [
      "Applying baseline correction (mode: mean)\n",
      "Reading /media/tyler/PathstoneProject/PathstoneYAC/derivatives/segmented/yac_1084_pylqcr_eeg.fif ...\n",
      "    Found the data of interest:\n",
      "        t =    -100.00 ...     650.00 ms\n",
      "        0 CTF compensation matrices available\n",
      "Not setting metadata\n",
      "334 matching events found\n",
      "No baseline correction applied\n",
      "0 projection items activated\n",
      "Applying baseline correction (mode: mean)\n",
      "Applying baseline correction (mode: mean)\n",
      "Applying baseline correction (mode: mean)\n"
     ]
    },
    {
     "name": "stderr",
     "output_type": "stream",
     "text": [
      "/tmp/ipykernel_65174/728820736.py:6: RuntimeWarning: This filename (derivatives/segmented/yac_1084_pylqcr_eeg.fif) does not conform to MNE naming conventions. All epochs files should end with -epo.fif, -epo.fif.gz, _epo.fif or _epo.fif.gz\n",
      "  new_epoch = mne.read_epochs(sub)\n"
     ]
    },
    {
     "name": "stdout",
     "output_type": "stream",
     "text": [
      "Applying baseline correction (mode: mean)\n",
      "Reading /media/tyler/PathstoneProject/PathstoneYAC/derivatives/segmented/yac_1085_pylqcr_eeg.fif ...\n",
      "    Found the data of interest:\n",
      "        t =    -100.00 ...     650.00 ms\n",
      "        0 CTF compensation matrices available\n",
      "Not setting metadata\n",
      "327 matching events found\n",
      "No baseline correction applied\n",
      "0 projection items activated\n",
      "Applying baseline correction (mode: mean)\n",
      "Applying baseline correction (mode: mean)\n",
      "Applying baseline correction (mode: mean)\n"
     ]
    },
    {
     "name": "stderr",
     "output_type": "stream",
     "text": [
      "/tmp/ipykernel_65174/728820736.py:6: RuntimeWarning: This filename (derivatives/segmented/yac_1085_pylqcr_eeg.fif) does not conform to MNE naming conventions. All epochs files should end with -epo.fif, -epo.fif.gz, _epo.fif or _epo.fif.gz\n",
      "  new_epoch = mne.read_epochs(sub)\n"
     ]
    },
    {
     "name": "stdout",
     "output_type": "stream",
     "text": [
      "Applying baseline correction (mode: mean)\n",
      "Reading /media/tyler/PathstoneProject/PathstoneYAC/derivatives/segmented/yac_1086_pylqcr_eeg.fif ...\n",
      "    Found the data of interest:\n",
      "        t =    -100.00 ...     650.00 ms\n",
      "        0 CTF compensation matrices available\n",
      "Not setting metadata\n",
      "321 matching events found\n",
      "No baseline correction applied\n",
      "0 projection items activated\n",
      "Applying baseline correction (mode: mean)\n",
      "Applying baseline correction (mode: mean)\n",
      "Applying baseline correction (mode: mean)\n"
     ]
    },
    {
     "name": "stderr",
     "output_type": "stream",
     "text": [
      "/tmp/ipykernel_65174/728820736.py:6: RuntimeWarning: This filename (derivatives/segmented/yac_1086_pylqcr_eeg.fif) does not conform to MNE naming conventions. All epochs files should end with -epo.fif, -epo.fif.gz, _epo.fif or _epo.fif.gz\n",
      "  new_epoch = mne.read_epochs(sub)\n"
     ]
    },
    {
     "name": "stdout",
     "output_type": "stream",
     "text": [
      "Applying baseline correction (mode: mean)\n",
      "Reading /media/tyler/PathstoneProject/PathstoneYAC/derivatives/segmented/yac_1087_pylqcr_eeg.fif ...\n",
      "    Found the data of interest:\n",
      "        t =    -100.00 ...     650.00 ms\n",
      "        0 CTF compensation matrices available\n",
      "Not setting metadata\n",
      "322 matching events found\n",
      "No baseline correction applied\n",
      "0 projection items activated\n",
      "Applying baseline correction (mode: mean)\n",
      "Applying baseline correction (mode: mean)\n"
     ]
    },
    {
     "name": "stderr",
     "output_type": "stream",
     "text": [
      "/tmp/ipykernel_65174/728820736.py:6: RuntimeWarning: This filename (derivatives/segmented/yac_1087_pylqcr_eeg.fif) does not conform to MNE naming conventions. All epochs files should end with -epo.fif, -epo.fif.gz, _epo.fif or _epo.fif.gz\n",
      "  new_epoch = mne.read_epochs(sub)\n"
     ]
    },
    {
     "name": "stdout",
     "output_type": "stream",
     "text": [
      "Applying baseline correction (mode: mean)\n",
      "Applying baseline correction (mode: mean)\n",
      "Reading /media/tyler/PathstoneProject/PathstoneYAC/derivatives/segmented/yac_1088_pylqcr_eeg.fif ...\n",
      "    Found the data of interest:\n",
      "        t =    -100.00 ...     650.00 ms\n",
      "        0 CTF compensation matrices available\n",
      "Not setting metadata\n",
      "319 matching events found\n",
      "No baseline correction applied\n",
      "0 projection items activated\n",
      "Applying baseline correction (mode: mean)\n",
      "Applying baseline correction (mode: mean)\n",
      "Applying baseline correction (mode: mean)\n",
      "Applying baseline correction (mode: mean)\n"
     ]
    },
    {
     "name": "stderr",
     "output_type": "stream",
     "text": [
      "/tmp/ipykernel_65174/728820736.py:6: RuntimeWarning: This filename (derivatives/segmented/yac_1088_pylqcr_eeg.fif) does not conform to MNE naming conventions. All epochs files should end with -epo.fif, -epo.fif.gz, _epo.fif or _epo.fif.gz\n",
      "  new_epoch = mne.read_epochs(sub)\n"
     ]
    },
    {
     "name": "stdout",
     "output_type": "stream",
     "text": [
      "Reading /media/tyler/PathstoneProject/PathstoneYAC/derivatives/segmented/yac_1091_pylqcr_eeg.fif ...\n",
      "    Found the data of interest:\n",
      "        t =    -100.00 ...     650.00 ms\n",
      "        0 CTF compensation matrices available\n",
      "Not setting metadata\n",
      "302 matching events found\n",
      "No baseline correction applied\n",
      "0 projection items activated\n",
      "Applying baseline correction (mode: mean)\n",
      "Applying baseline correction (mode: mean)\n",
      "Applying baseline correction (mode: mean)\n"
     ]
    },
    {
     "name": "stderr",
     "output_type": "stream",
     "text": [
      "/tmp/ipykernel_65174/728820736.py:6: RuntimeWarning: This filename (derivatives/segmented/yac_1091_pylqcr_eeg.fif) does not conform to MNE naming conventions. All epochs files should end with -epo.fif, -epo.fif.gz, _epo.fif or _epo.fif.gz\n",
      "  new_epoch = mne.read_epochs(sub)\n"
     ]
    },
    {
     "name": "stdout",
     "output_type": "stream",
     "text": [
      "Applying baseline correction (mode: mean)\n"
     ]
    },
    {
     "name": "stderr",
     "output_type": "stream",
     "text": [
      "/home/tyler/eeg-env/lib/python3.10/site-packages/pandas/core/internals/blocks.py:2536: RuntimeWarning: invalid value encountered in cast\n",
      "  values = values.astype(str)\n"
     ]
    }
   ],
   "source": [
    "all_subject_paths = sorted(glob.glob('derivatives/segmented/*.fif'))\n",
    "collect_all = []\n",
    "for sub in all_subject_paths:\n",
    "    subject_id = re.findall(r'_(\\d+)_', sub)[0]\n",
    "    subject_dict = {'subject': subject_id, 'reject': False}\n",
    "    new_epoch = mne.read_epochs(sub)\n",
    "    for new_label, condition in conditions.items():\n",
    "        cond_epoch = new_epoch[condition].crop(tmin=-0.1, tmax=0.65).apply_baseline((-0.1, 0))\n",
    "        if len(cond_epoch) / trial_counts[new_label] < 0.5:\n",
    "            subject_dict['reject'] = True\n",
    "        else:\n",
    "            p3_df = cond_epoch.average(picks=p3_sites).to_data_frame().set_index('time')\n",
    "            p3_df['all'] = p3_df[p3_sites].mean(axis=1)\n",
    "            subject_dict[f'{new_label}_p3_amp_early'] = p3_df['all'].loc[0.300:0.400].mean()\n",
    "            subject_dict[f'{new_label}_p3_amp_mid']  = p3_df['all'].loc[0.400:0.500].mean()\n",
    "            subject_dict[f'{new_label}_p3_amp_late']  = p3_df['all'].loc[0.500:0.600].mean()\n",
    "            \n",
    "            n2_df = cond_epoch.average(picks=n2_sites).to_data_frame().set_index('time')\n",
    "            n2_df['all'] = n2_df[n2_sites].mean(axis=1)\n",
    "            subject_dict[f'{new_label}_n2_latency'] = n2_df['all'].loc[.200:.320].idxmin()\n",
    "            subject_dict[f'{new_label}_n2_amp'] = n2_df['all'][subject_dict[f'{new_label}_n2_latency']]\n",
    "\n",
    "    collect_all.append(subject_dict)\n",
    "    \n",
    "df = pd.DataFrame(collect_all)\n",
    "df.to_csv('data.csv', index=None)"
   ]
  },
  {
   "cell_type": "code",
   "execution_count": 4,
   "id": "c3727c29-5791-4485-979a-fb50b9bda1ad",
   "metadata": {},
   "outputs": [
    {
     "data": {
      "text/html": [
       "<div>\n",
       "<style scoped>\n",
       "    .dataframe tbody tr th:only-of-type {\n",
       "        vertical-align: middle;\n",
       "    }\n",
       "\n",
       "    .dataframe tbody tr th {\n",
       "        vertical-align: top;\n",
       "    }\n",
       "\n",
       "    .dataframe thead th {\n",
       "        text-align: right;\n",
       "    }\n",
       "</style>\n",
       "<table border=\"1\" class=\"dataframe\">\n",
       "  <thead>\n",
       "    <tr style=\"text-align: right;\">\n",
       "      <th></th>\n",
       "      <th>subject</th>\n",
       "      <th>reject</th>\n",
       "      <th>Target_p3_amp_early</th>\n",
       "      <th>Target_p3_amp_mid</th>\n",
       "      <th>Target_p3_amp_late</th>\n",
       "      <th>Target_n2_latency</th>\n",
       "      <th>Target_n2_amp</th>\n",
       "      <th>Non-target_p3_amp_early</th>\n",
       "      <th>Non-target_p3_amp_mid</th>\n",
       "      <th>Non-target_p3_amp_late</th>\n",
       "      <th>...</th>\n",
       "      <th>Standard_p3_amp_early</th>\n",
       "      <th>Standard_p3_amp_mid</th>\n",
       "      <th>Standard_p3_amp_late</th>\n",
       "      <th>Standard_n2_latency</th>\n",
       "      <th>Standard_n2_amp</th>\n",
       "      <th>Combined-novel_p3_amp_early</th>\n",
       "      <th>Combined-novel_p3_amp_mid</th>\n",
       "      <th>Combined-novel_p3_amp_late</th>\n",
       "      <th>Combined-novel_n2_latency</th>\n",
       "      <th>Combined-novel_n2_amp</th>\n",
       "    </tr>\n",
       "  </thead>\n",
       "  <tbody>\n",
       "    <tr>\n",
       "      <th>0</th>\n",
       "      <td>1001</td>\n",
       "      <td>True</td>\n",
       "      <td>9.076529</td>\n",
       "      <td>8.710796</td>\n",
       "      <td>2.917216</td>\n",
       "      <td>0.286</td>\n",
       "      <td>-4.096436</td>\n",
       "      <td>3.277729</td>\n",
       "      <td>0.689384</td>\n",
       "      <td>-0.331787</td>\n",
       "      <td>...</td>\n",
       "      <td>4.155155</td>\n",
       "      <td>1.970416</td>\n",
       "      <td>0.510463</td>\n",
       "      <td>0.302</td>\n",
       "      <td>-1.937499</td>\n",
       "      <td>NaN</td>\n",
       "      <td>NaN</td>\n",
       "      <td>NaN</td>\n",
       "      <td>NaN</td>\n",
       "      <td>NaN</td>\n",
       "    </tr>\n",
       "    <tr>\n",
       "      <th>1</th>\n",
       "      <td>1002</td>\n",
       "      <td>False</td>\n",
       "      <td>5.963639</td>\n",
       "      <td>9.522362</td>\n",
       "      <td>11.022193</td>\n",
       "      <td>0.320</td>\n",
       "      <td>-3.940598</td>\n",
       "      <td>-0.708846</td>\n",
       "      <td>1.115521</td>\n",
       "      <td>6.338612</td>\n",
       "      <td>...</td>\n",
       "      <td>3.473956</td>\n",
       "      <td>3.001427</td>\n",
       "      <td>6.489525</td>\n",
       "      <td>0.280</td>\n",
       "      <td>-3.452820</td>\n",
       "      <td>-3.221338</td>\n",
       "      <td>2.251598</td>\n",
       "      <td>5.372633</td>\n",
       "      <td>0.276</td>\n",
       "      <td>-10.320061</td>\n",
       "    </tr>\n",
       "    <tr>\n",
       "      <th>2</th>\n",
       "      <td>1003</td>\n",
       "      <td>False</td>\n",
       "      <td>7.727170</td>\n",
       "      <td>9.849111</td>\n",
       "      <td>10.178060</td>\n",
       "      <td>0.302</td>\n",
       "      <td>-6.173041</td>\n",
       "      <td>0.355597</td>\n",
       "      <td>-0.100343</td>\n",
       "      <td>1.840538</td>\n",
       "      <td>...</td>\n",
       "      <td>2.716875</td>\n",
       "      <td>0.293267</td>\n",
       "      <td>3.354559</td>\n",
       "      <td>0.300</td>\n",
       "      <td>-6.091427</td>\n",
       "      <td>-0.047953</td>\n",
       "      <td>2.873746</td>\n",
       "      <td>4.989450</td>\n",
       "      <td>0.320</td>\n",
       "      <td>-8.573467</td>\n",
       "    </tr>\n",
       "    <tr>\n",
       "      <th>3</th>\n",
       "      <td>1004</td>\n",
       "      <td>False</td>\n",
       "      <td>12.186898</td>\n",
       "      <td>15.246781</td>\n",
       "      <td>12.244367</td>\n",
       "      <td>0.320</td>\n",
       "      <td>-10.088952</td>\n",
       "      <td>7.541618</td>\n",
       "      <td>6.788693</td>\n",
       "      <td>2.455241</td>\n",
       "      <td>...</td>\n",
       "      <td>14.254591</td>\n",
       "      <td>5.191731</td>\n",
       "      <td>1.856135</td>\n",
       "      <td>0.320</td>\n",
       "      <td>-4.585247</td>\n",
       "      <td>9.881710</td>\n",
       "      <td>-0.532213</td>\n",
       "      <td>2.581887</td>\n",
       "      <td>0.320</td>\n",
       "      <td>-11.047007</td>\n",
       "    </tr>\n",
       "    <tr>\n",
       "      <th>4</th>\n",
       "      <td>1005</td>\n",
       "      <td>False</td>\n",
       "      <td>11.577951</td>\n",
       "      <td>14.093689</td>\n",
       "      <td>11.610516</td>\n",
       "      <td>0.320</td>\n",
       "      <td>-9.360503</td>\n",
       "      <td>3.590386</td>\n",
       "      <td>3.426785</td>\n",
       "      <td>1.513606</td>\n",
       "      <td>...</td>\n",
       "      <td>6.381381</td>\n",
       "      <td>2.644920</td>\n",
       "      <td>2.683380</td>\n",
       "      <td>0.200</td>\n",
       "      <td>-4.700764</td>\n",
       "      <td>9.506482</td>\n",
       "      <td>4.991631</td>\n",
       "      <td>3.529017</td>\n",
       "      <td>0.320</td>\n",
       "      <td>-16.368007</td>\n",
       "    </tr>\n",
       "    <tr>\n",
       "      <th>...</th>\n",
       "      <td>...</td>\n",
       "      <td>...</td>\n",
       "      <td>...</td>\n",
       "      <td>...</td>\n",
       "      <td>...</td>\n",
       "      <td>...</td>\n",
       "      <td>...</td>\n",
       "      <td>...</td>\n",
       "      <td>...</td>\n",
       "      <td>...</td>\n",
       "      <td>...</td>\n",
       "      <td>...</td>\n",
       "      <td>...</td>\n",
       "      <td>...</td>\n",
       "      <td>...</td>\n",
       "      <td>...</td>\n",
       "      <td>...</td>\n",
       "      <td>...</td>\n",
       "      <td>...</td>\n",
       "      <td>...</td>\n",
       "      <td>...</td>\n",
       "    </tr>\n",
       "    <tr>\n",
       "      <th>79</th>\n",
       "      <td>1085</td>\n",
       "      <td>False</td>\n",
       "      <td>9.838118</td>\n",
       "      <td>7.116518</td>\n",
       "      <td>4.533428</td>\n",
       "      <td>0.292</td>\n",
       "      <td>-8.323168</td>\n",
       "      <td>2.728372</td>\n",
       "      <td>0.700914</td>\n",
       "      <td>0.291556</td>\n",
       "      <td>...</td>\n",
       "      <td>1.902284</td>\n",
       "      <td>-0.863723</td>\n",
       "      <td>-0.269607</td>\n",
       "      <td>0.320</td>\n",
       "      <td>-3.238919</td>\n",
       "      <td>2.048324</td>\n",
       "      <td>-1.161688</td>\n",
       "      <td>-0.154417</td>\n",
       "      <td>0.234</td>\n",
       "      <td>-7.715193</td>\n",
       "    </tr>\n",
       "    <tr>\n",
       "      <th>80</th>\n",
       "      <td>1086</td>\n",
       "      <td>False</td>\n",
       "      <td>6.169284</td>\n",
       "      <td>6.627039</td>\n",
       "      <td>4.389091</td>\n",
       "      <td>0.318</td>\n",
       "      <td>-5.513075</td>\n",
       "      <td>3.943971</td>\n",
       "      <td>4.238488</td>\n",
       "      <td>3.234660</td>\n",
       "      <td>...</td>\n",
       "      <td>3.882621</td>\n",
       "      <td>1.910803</td>\n",
       "      <td>1.472489</td>\n",
       "      <td>0.286</td>\n",
       "      <td>-0.932419</td>\n",
       "      <td>3.063468</td>\n",
       "      <td>2.604133</td>\n",
       "      <td>1.703378</td>\n",
       "      <td>0.258</td>\n",
       "      <td>-2.426938</td>\n",
       "    </tr>\n",
       "    <tr>\n",
       "      <th>81</th>\n",
       "      <td>1087</td>\n",
       "      <td>False</td>\n",
       "      <td>6.542493</td>\n",
       "      <td>14.610915</td>\n",
       "      <td>14.757066</td>\n",
       "      <td>0.320</td>\n",
       "      <td>-1.180031</td>\n",
       "      <td>0.064622</td>\n",
       "      <td>2.228555</td>\n",
       "      <td>3.343043</td>\n",
       "      <td>...</td>\n",
       "      <td>-0.238626</td>\n",
       "      <td>3.304899</td>\n",
       "      <td>4.309438</td>\n",
       "      <td>0.320</td>\n",
       "      <td>1.155456</td>\n",
       "      <td>0.454433</td>\n",
       "      <td>3.549560</td>\n",
       "      <td>3.496518</td>\n",
       "      <td>0.320</td>\n",
       "      <td>-7.515292</td>\n",
       "    </tr>\n",
       "    <tr>\n",
       "      <th>82</th>\n",
       "      <td>1088</td>\n",
       "      <td>True</td>\n",
       "      <td>12.083303</td>\n",
       "      <td>17.675571</td>\n",
       "      <td>13.440196</td>\n",
       "      <td>0.306</td>\n",
       "      <td>-4.526618</td>\n",
       "      <td>6.473538</td>\n",
       "      <td>3.958670</td>\n",
       "      <td>3.295143</td>\n",
       "      <td>...</td>\n",
       "      <td>7.524148</td>\n",
       "      <td>3.715209</td>\n",
       "      <td>4.529905</td>\n",
       "      <td>0.320</td>\n",
       "      <td>-3.144907</td>\n",
       "      <td>NaN</td>\n",
       "      <td>NaN</td>\n",
       "      <td>NaN</td>\n",
       "      <td>NaN</td>\n",
       "      <td>NaN</td>\n",
       "    </tr>\n",
       "    <tr>\n",
       "      <th>83</th>\n",
       "      <td>1091</td>\n",
       "      <td>False</td>\n",
       "      <td>7.920707</td>\n",
       "      <td>7.111582</td>\n",
       "      <td>6.802323</td>\n",
       "      <td>0.288</td>\n",
       "      <td>-2.645265</td>\n",
       "      <td>6.577370</td>\n",
       "      <td>3.666888</td>\n",
       "      <td>2.328437</td>\n",
       "      <td>...</td>\n",
       "      <td>0.052354</td>\n",
       "      <td>-1.233468</td>\n",
       "      <td>-0.045101</td>\n",
       "      <td>0.284</td>\n",
       "      <td>-1.379022</td>\n",
       "      <td>-0.078370</td>\n",
       "      <td>-2.677491</td>\n",
       "      <td>-2.659247</td>\n",
       "      <td>0.290</td>\n",
       "      <td>-4.297209</td>\n",
       "    </tr>\n",
       "  </tbody>\n",
       "</table>\n",
       "<p>84 rows × 22 columns</p>\n",
       "</div>"
      ],
      "text/plain": [
       "   subject  reject  Target_p3_amp_early  Target_p3_amp_mid   \n",
       "0     1001    True             9.076529           8.710796  \\\n",
       "1     1002   False             5.963639           9.522362   \n",
       "2     1003   False             7.727170           9.849111   \n",
       "3     1004   False            12.186898          15.246781   \n",
       "4     1005   False            11.577951          14.093689   \n",
       "..     ...     ...                  ...                ...   \n",
       "79    1085   False             9.838118           7.116518   \n",
       "80    1086   False             6.169284           6.627039   \n",
       "81    1087   False             6.542493          14.610915   \n",
       "82    1088    True            12.083303          17.675571   \n",
       "83    1091   False             7.920707           7.111582   \n",
       "\n",
       "    Target_p3_amp_late  Target_n2_latency  Target_n2_amp   \n",
       "0             2.917216              0.286      -4.096436  \\\n",
       "1            11.022193              0.320      -3.940598   \n",
       "2            10.178060              0.302      -6.173041   \n",
       "3            12.244367              0.320     -10.088952   \n",
       "4            11.610516              0.320      -9.360503   \n",
       "..                 ...                ...            ...   \n",
       "79            4.533428              0.292      -8.323168   \n",
       "80            4.389091              0.318      -5.513075   \n",
       "81           14.757066              0.320      -1.180031   \n",
       "82           13.440196              0.306      -4.526618   \n",
       "83            6.802323              0.288      -2.645265   \n",
       "\n",
       "    Non-target_p3_amp_early  Non-target_p3_amp_mid  Non-target_p3_amp_late   \n",
       "0                  3.277729               0.689384               -0.331787  \\\n",
       "1                 -0.708846               1.115521                6.338612   \n",
       "2                  0.355597              -0.100343                1.840538   \n",
       "3                  7.541618               6.788693                2.455241   \n",
       "4                  3.590386               3.426785                1.513606   \n",
       "..                      ...                    ...                     ...   \n",
       "79                 2.728372               0.700914                0.291556   \n",
       "80                 3.943971               4.238488                3.234660   \n",
       "81                 0.064622               2.228555                3.343043   \n",
       "82                 6.473538               3.958670                3.295143   \n",
       "83                 6.577370               3.666888                2.328437   \n",
       "\n",
       "    ...  Standard_p3_amp_early  Standard_p3_amp_mid  Standard_p3_amp_late   \n",
       "0   ...               4.155155             1.970416              0.510463  \\\n",
       "1   ...               3.473956             3.001427              6.489525   \n",
       "2   ...               2.716875             0.293267              3.354559   \n",
       "3   ...              14.254591             5.191731              1.856135   \n",
       "4   ...               6.381381             2.644920              2.683380   \n",
       "..  ...                    ...                  ...                   ...   \n",
       "79  ...               1.902284            -0.863723             -0.269607   \n",
       "80  ...               3.882621             1.910803              1.472489   \n",
       "81  ...              -0.238626             3.304899              4.309438   \n",
       "82  ...               7.524148             3.715209              4.529905   \n",
       "83  ...               0.052354            -1.233468             -0.045101   \n",
       "\n",
       "    Standard_n2_latency  Standard_n2_amp  Combined-novel_p3_amp_early   \n",
       "0                 0.302        -1.937499                          NaN  \\\n",
       "1                 0.280        -3.452820                    -3.221338   \n",
       "2                 0.300        -6.091427                    -0.047953   \n",
       "3                 0.320        -4.585247                     9.881710   \n",
       "4                 0.200        -4.700764                     9.506482   \n",
       "..                  ...              ...                          ...   \n",
       "79                0.320        -3.238919                     2.048324   \n",
       "80                0.286        -0.932419                     3.063468   \n",
       "81                0.320         1.155456                     0.454433   \n",
       "82                0.320        -3.144907                          NaN   \n",
       "83                0.284        -1.379022                    -0.078370   \n",
       "\n",
       "    Combined-novel_p3_amp_mid  Combined-novel_p3_amp_late   \n",
       "0                         NaN                         NaN  \\\n",
       "1                    2.251598                    5.372633   \n",
       "2                    2.873746                    4.989450   \n",
       "3                   -0.532213                    2.581887   \n",
       "4                    4.991631                    3.529017   \n",
       "..                        ...                         ...   \n",
       "79                  -1.161688                   -0.154417   \n",
       "80                   2.604133                    1.703378   \n",
       "81                   3.549560                    3.496518   \n",
       "82                        NaN                         NaN   \n",
       "83                  -2.677491                   -2.659247   \n",
       "\n",
       "    Combined-novel_n2_latency  Combined-novel_n2_amp  \n",
       "0                         NaN                    NaN  \n",
       "1                       0.276             -10.320061  \n",
       "2                       0.320              -8.573467  \n",
       "3                       0.320             -11.047007  \n",
       "4                       0.320             -16.368007  \n",
       "..                        ...                    ...  \n",
       "79                      0.234              -7.715193  \n",
       "80                      0.258              -2.426938  \n",
       "81                      0.320              -7.515292  \n",
       "82                        NaN                    NaN  \n",
       "83                      0.290              -4.297209  \n",
       "\n",
       "[84 rows x 22 columns]"
      ]
     },
     "execution_count": 4,
     "metadata": {},
     "output_type": "execute_result"
    }
   ],
   "source": [
    "df"
   ]
  }
 ],
 "metadata": {
  "kernelspec": {
   "display_name": "Python 3 (ipykernel)",
   "language": "python",
   "name": "python3"
  },
  "language_info": {
   "codemirror_mode": {
    "name": "ipython",
    "version": 3
   },
   "file_extension": ".py",
   "mimetype": "text/x-python",
   "name": "python",
   "nbconvert_exporter": "python",
   "pygments_lexer": "ipython3",
   "version": "3.10.12"
  }
 },
 "nbformat": 4,
 "nbformat_minor": 5
}
